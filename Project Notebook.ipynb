{
 "cells": [
  {
   "cell_type": "raw",
   "id": "f39378c7",
   "metadata": {},
   "source": [
    "Steps of data analysis:\n",
    "    1. Define the problem, and how data analysis can solve it.\n",
    "    2. Collect the data.\n",
    "    3. Clean the data.\n",
    "    4. Analayze/Explore the data.\n",
    "    5. Analayze results and make necessary changes."
   ]
  },
  {
   "cell_type": "markdown",
   "id": "24c96738",
   "metadata": {},
   "source": [
    "# Step 1: Define the problem."
   ]
  },
  {
   "cell_type": "raw",
   "id": "9312e04a",
   "metadata": {},
   "source": [
    "In our situation we need to use data analysis for the purpose of being able to predict a value for any house."
   ]
  },
  {
   "cell_type": "markdown",
   "id": "6034f15a",
   "metadata": {},
   "source": [
    "# Step 2: Collect the data."
   ]
  },
  {
   "cell_type": "code",
   "execution_count": 1,
   "id": "96c04b02",
   "metadata": {},
   "outputs": [],
   "source": [
    "import pandas as pd"
   ]
  },
  {
   "cell_type": "code",
   "execution_count": 2,
   "id": "87e3c7b2",
   "metadata": {},
   "outputs": [],
   "source": [
    "data = pd.read_excel(\"./data_mid_bootcamp_project_regression/regression_data.xls\")"
   ]
  },
  {
   "cell_type": "code",
   "execution_count": 3,
   "id": "3c0203ea",
   "metadata": {
    "scrolled": false
   },
   "outputs": [
    {
     "data": {
      "text/html": [
       "<div>\n",
       "<style scoped>\n",
       "    .dataframe tbody tr th:only-of-type {\n",
       "        vertical-align: middle;\n",
       "    }\n",
       "\n",
       "    .dataframe tbody tr th {\n",
       "        vertical-align: top;\n",
       "    }\n",
       "\n",
       "    .dataframe thead th {\n",
       "        text-align: right;\n",
       "    }\n",
       "</style>\n",
       "<table border=\"1\" class=\"dataframe\">\n",
       "  <thead>\n",
       "    <tr style=\"text-align: right;\">\n",
       "      <th></th>\n",
       "      <th>id</th>\n",
       "      <th>date</th>\n",
       "      <th>bedrooms</th>\n",
       "      <th>bathrooms</th>\n",
       "      <th>sqft_living</th>\n",
       "      <th>sqft_lot</th>\n",
       "      <th>floors</th>\n",
       "      <th>waterfront</th>\n",
       "      <th>view</th>\n",
       "      <th>condition</th>\n",
       "      <th>...</th>\n",
       "      <th>sqft_above</th>\n",
       "      <th>sqft_basement</th>\n",
       "      <th>yr_built</th>\n",
       "      <th>yr_renovated</th>\n",
       "      <th>zipcode</th>\n",
       "      <th>lat</th>\n",
       "      <th>long</th>\n",
       "      <th>sqft_living15</th>\n",
       "      <th>sqft_lot15</th>\n",
       "      <th>price</th>\n",
       "    </tr>\n",
       "  </thead>\n",
       "  <tbody>\n",
       "    <tr>\n",
       "      <th>0</th>\n",
       "      <td>7129300520</td>\n",
       "      <td>2014-10-13</td>\n",
       "      <td>3</td>\n",
       "      <td>1.00</td>\n",
       "      <td>1180</td>\n",
       "      <td>5650</td>\n",
       "      <td>1.0</td>\n",
       "      <td>0</td>\n",
       "      <td>0</td>\n",
       "      <td>3</td>\n",
       "      <td>...</td>\n",
       "      <td>1180</td>\n",
       "      <td>0</td>\n",
       "      <td>1955</td>\n",
       "      <td>0</td>\n",
       "      <td>98178</td>\n",
       "      <td>47.5112</td>\n",
       "      <td>-122.257</td>\n",
       "      <td>1340</td>\n",
       "      <td>5650</td>\n",
       "      <td>221900</td>\n",
       "    </tr>\n",
       "    <tr>\n",
       "      <th>1</th>\n",
       "      <td>6414100192</td>\n",
       "      <td>2014-12-09</td>\n",
       "      <td>3</td>\n",
       "      <td>2.25</td>\n",
       "      <td>2570</td>\n",
       "      <td>7242</td>\n",
       "      <td>2.0</td>\n",
       "      <td>0</td>\n",
       "      <td>0</td>\n",
       "      <td>3</td>\n",
       "      <td>...</td>\n",
       "      <td>2170</td>\n",
       "      <td>400</td>\n",
       "      <td>1951</td>\n",
       "      <td>1991</td>\n",
       "      <td>98125</td>\n",
       "      <td>47.7210</td>\n",
       "      <td>-122.319</td>\n",
       "      <td>1690</td>\n",
       "      <td>7639</td>\n",
       "      <td>538000</td>\n",
       "    </tr>\n",
       "    <tr>\n",
       "      <th>2</th>\n",
       "      <td>5631500400</td>\n",
       "      <td>2015-02-25</td>\n",
       "      <td>2</td>\n",
       "      <td>1.00</td>\n",
       "      <td>770</td>\n",
       "      <td>10000</td>\n",
       "      <td>1.0</td>\n",
       "      <td>0</td>\n",
       "      <td>0</td>\n",
       "      <td>3</td>\n",
       "      <td>...</td>\n",
       "      <td>770</td>\n",
       "      <td>0</td>\n",
       "      <td>1933</td>\n",
       "      <td>0</td>\n",
       "      <td>98028</td>\n",
       "      <td>47.7379</td>\n",
       "      <td>-122.233</td>\n",
       "      <td>2720</td>\n",
       "      <td>8062</td>\n",
       "      <td>180000</td>\n",
       "    </tr>\n",
       "    <tr>\n",
       "      <th>3</th>\n",
       "      <td>2487200875</td>\n",
       "      <td>2014-12-09</td>\n",
       "      <td>4</td>\n",
       "      <td>3.00</td>\n",
       "      <td>1960</td>\n",
       "      <td>5000</td>\n",
       "      <td>1.0</td>\n",
       "      <td>0</td>\n",
       "      <td>0</td>\n",
       "      <td>5</td>\n",
       "      <td>...</td>\n",
       "      <td>1050</td>\n",
       "      <td>910</td>\n",
       "      <td>1965</td>\n",
       "      <td>0</td>\n",
       "      <td>98136</td>\n",
       "      <td>47.5208</td>\n",
       "      <td>-122.393</td>\n",
       "      <td>1360</td>\n",
       "      <td>5000</td>\n",
       "      <td>604000</td>\n",
       "    </tr>\n",
       "    <tr>\n",
       "      <th>4</th>\n",
       "      <td>1954400510</td>\n",
       "      <td>2015-02-18</td>\n",
       "      <td>3</td>\n",
       "      <td>2.00</td>\n",
       "      <td>1680</td>\n",
       "      <td>8080</td>\n",
       "      <td>1.0</td>\n",
       "      <td>0</td>\n",
       "      <td>0</td>\n",
       "      <td>3</td>\n",
       "      <td>...</td>\n",
       "      <td>1680</td>\n",
       "      <td>0</td>\n",
       "      <td>1987</td>\n",
       "      <td>0</td>\n",
       "      <td>98074</td>\n",
       "      <td>47.6168</td>\n",
       "      <td>-122.045</td>\n",
       "      <td>1800</td>\n",
       "      <td>7503</td>\n",
       "      <td>510000</td>\n",
       "    </tr>\n",
       "  </tbody>\n",
       "</table>\n",
       "<p>5 rows × 21 columns</p>\n",
       "</div>"
      ],
      "text/plain": [
       "           id       date  bedrooms  bathrooms  sqft_living  sqft_lot  floors  \\\n",
       "0  7129300520 2014-10-13         3       1.00         1180      5650     1.0   \n",
       "1  6414100192 2014-12-09         3       2.25         2570      7242     2.0   \n",
       "2  5631500400 2015-02-25         2       1.00          770     10000     1.0   \n",
       "3  2487200875 2014-12-09         4       3.00         1960      5000     1.0   \n",
       "4  1954400510 2015-02-18         3       2.00         1680      8080     1.0   \n",
       "\n",
       "   waterfront  view  condition  ...  sqft_above  sqft_basement  yr_built  \\\n",
       "0           0     0          3  ...        1180              0      1955   \n",
       "1           0     0          3  ...        2170            400      1951   \n",
       "2           0     0          3  ...         770              0      1933   \n",
       "3           0     0          5  ...        1050            910      1965   \n",
       "4           0     0          3  ...        1680              0      1987   \n",
       "\n",
       "   yr_renovated  zipcode      lat     long  sqft_living15  sqft_lot15   price  \n",
       "0             0    98178  47.5112 -122.257           1340        5650  221900  \n",
       "1          1991    98125  47.7210 -122.319           1690        7639  538000  \n",
       "2             0    98028  47.7379 -122.233           2720        8062  180000  \n",
       "3             0    98136  47.5208 -122.393           1360        5000  604000  \n",
       "4             0    98074  47.6168 -122.045           1800        7503  510000  \n",
       "\n",
       "[5 rows x 21 columns]"
      ]
     },
     "execution_count": 3,
     "metadata": {},
     "output_type": "execute_result"
    }
   ],
   "source": [
    "data.head()"
   ]
  },
  {
   "cell_type": "code",
   "execution_count": 4,
   "id": "37eb6681",
   "metadata": {
    "scrolled": true
   },
   "outputs": [
    {
     "data": {
      "text/plain": [
       "id                        int64\n",
       "date             datetime64[ns]\n",
       "bedrooms                  int64\n",
       "bathrooms               float64\n",
       "sqft_living               int64\n",
       "sqft_lot                  int64\n",
       "floors                  float64\n",
       "waterfront                int64\n",
       "view                      int64\n",
       "condition                 int64\n",
       "grade                     int64\n",
       "sqft_above                int64\n",
       "sqft_basement             int64\n",
       "yr_built                  int64\n",
       "yr_renovated              int64\n",
       "zipcode                   int64\n",
       "lat                     float64\n",
       "long                    float64\n",
       "sqft_living15             int64\n",
       "sqft_lot15                int64\n",
       "price                     int64\n",
       "dtype: object"
      ]
     },
     "execution_count": 4,
     "metadata": {},
     "output_type": "execute_result"
    }
   ],
   "source": [
    "data.dtypes"
   ]
  },
  {
   "cell_type": "markdown",
   "id": "2e88fe7a",
   "metadata": {},
   "source": [
    "## We should now look at our data's properties."
   ]
  },
  {
   "cell_type": "code",
   "execution_count": 5,
   "id": "d2ff2e5b",
   "metadata": {},
   "outputs": [
    {
     "data": {
      "text/plain": [
       "(21597, 21)"
      ]
     },
     "execution_count": 5,
     "metadata": {},
     "output_type": "execute_result"
    }
   ],
   "source": [
    "data.shape"
   ]
  },
  {
   "cell_type": "code",
   "execution_count": 6,
   "id": "cdaf123b",
   "metadata": {
    "scrolled": true
   },
   "outputs": [
    {
     "data": {
      "text/plain": [
       "id                        int64\n",
       "date             datetime64[ns]\n",
       "bedrooms                  int64\n",
       "bathrooms               float64\n",
       "sqft_living               int64\n",
       "sqft_lot                  int64\n",
       "floors                  float64\n",
       "waterfront                int64\n",
       "view                      int64\n",
       "condition                 int64\n",
       "grade                     int64\n",
       "sqft_above                int64\n",
       "sqft_basement             int64\n",
       "yr_built                  int64\n",
       "yr_renovated              int64\n",
       "zipcode                   int64\n",
       "lat                     float64\n",
       "long                    float64\n",
       "sqft_living15             int64\n",
       "sqft_lot15                int64\n",
       "price                     int64\n",
       "dtype: object"
      ]
     },
     "execution_count": 6,
     "metadata": {},
     "output_type": "execute_result"
    }
   ],
   "source": [
    "data.dtypes"
   ]
  },
  {
   "cell_type": "raw",
   "id": "71c4e94a",
   "metadata": {},
   "source": [
    "Before removing 'zipcode', 'lat', and 'long', I would like to check if they have a correlation to any of our information which is more reliable, but before we do that, we have to remove any data that we know will have no correlation whatsoever. For this I will be removing 'date' and 'id' since these do not affect house prices whatsoever."
   ]
  },
  {
   "cell_type": "code",
   "execution_count": 7,
   "id": "19202270",
   "metadata": {},
   "outputs": [],
   "source": [
    "del data['date']\n",
    "del data['id']"
   ]
  },
  {
   "cell_type": "code",
   "execution_count": 8,
   "id": "8c1ac171",
   "metadata": {
    "scrolled": false
   },
   "outputs": [
    {
     "data": {
      "text/plain": [
       "<AxesSubplot:>"
      ]
     },
     "execution_count": 8,
     "metadata": {},
     "output_type": "execute_result"
    },
    {
     "data": {
      "image/png": "[encoded data removed]",
      "text/plain": [
       "<Figure size 1152x360 with 2 Axes>"
      ]
     },
     "metadata": {
      "needs_background": "light"
     },
     "output_type": "display_data"
    }
   ],
   "source": [
    "import seaborn as sns\n",
    "%matplotlib inline\n",
    "import matplotlib.pyplot as plt\n",
    "\n",
    "plt.figure(figsize = (16,5))\n",
    "sns.heatmap(data.corr()[data.corr() < .1], annot=True)"
   ]
  },
  {
   "cell_type": "raw",
   "id": "78298b39",
   "metadata": {},
   "source": [
    "Using the heatmap above we can see that lat and long have almost no correlation with other columns, the only exceptions are 2 columns which are \"yr_built\" and \"sqft_lot15\". Seeing what those columns contain and how those values are collected, we can say that there is no correlation; therefore the following columns will be removed:\n",
    "-lat\n",
    "-long\n",
    "-zipcode"
   ]
  },
  {
   "cell_type": "code",
   "execution_count": 9,
   "id": "cbcd50a2",
   "metadata": {},
   "outputs": [],
   "source": [
    "del data['lat']\n",
    "del data['long']\n",
    "\n",
    "#The reason why zipcode is being removed is becuase it has little to no correlation with a majority of columns.\n",
    "del data['zipcode']"
   ]
  },
  {
   "cell_type": "markdown",
   "id": "f0062dcc",
   "metadata": {},
   "source": [
    "# Step 3: Data Cleaning"
   ]
  },
  {
   "cell_type": "raw",
   "id": "5ec995e7",
   "metadata": {
    "scrolled": true
   },
   "source": [
    "In this step of the process I will need to do the following things:\n",
    "-Standardize Headers\n",
    "-Check Data Types\n",
    "-Check for duplicates\n",
    "-Check for Null Values\n",
    "    -Data.isna().sum()\n",
    "    -Data.info()\n",
    "-Check unique values for cat columns\n",
    "-Make sure that numericals are finite numbers"
   ]
  },
  {
   "cell_type": "code",
   "execution_count": 10,
   "id": "05af40d4",
   "metadata": {},
   "outputs": [
    {
     "name": "stdout",
     "output_type": "stream",
     "text": [
      "0 bedrooms\n",
      "1 bathrooms\n",
      "2 sqft_living\n",
      "3 sqft_lot\n",
      "4 floors\n",
      "5 waterfront\n",
      "6 view\n",
      "7 condition\n",
      "8 grade\n",
      "9 sqft_above\n",
      "10 sqft_basement\n",
      "11 yr_built\n",
      "12 yr_renovated\n",
      "13 sqft_living15\n",
      "14 sqft_lot15\n",
      "15 price\n"
     ]
    }
   ],
   "source": [
    "#For standardizing heads, I like to go with all lowercase and replace any spaces with _.\n",
    "#I also like to make headers easier to understand with the need for extra documentation.\n",
    "#I used a loop to get a column name and its correlated index, this will help when changing specific column headers.\n",
    "\n",
    "for x in range(len(data.columns)):\n",
    "    print(x, data.columns[x])"
   ]
  },
  {
   "cell_type": "code",
   "execution_count": 11,
   "id": "c39c96b3",
   "metadata": {},
   "outputs": [],
   "source": [
    "#Since the data is mostly stanrdized as is, I will just need to replace column names with more descripitive headers.\n",
    "#To do this, I created a dictionary of all the changes I want to make\n",
    "#With this dictionary I am able to check if theres a replacement for a header, if there isnt, the header will stay the same;\n",
    "#But if there is, it will get the value from the dictionary instead.\n",
    "replacements_dic = {\n",
    "    5 : \"view_of_waterfront\"\n",
    "}\n",
    "headers_replacements = []\n",
    "\n",
    "for x in range(len(data.columns)):\n",
    "    if x in replacements_dic:\n",
    "        headers_replacements.append(replacements_dic[x])\n",
    "    else:\n",
    "        headers_replacements.append(data.columns[x])\n",
    "data.columns = headers_replacements"
   ]
  },
  {
   "cell_type": "code",
   "execution_count": 12,
   "id": "185fd9d6",
   "metadata": {
    "scrolled": true
   },
   "outputs": [
    {
     "name": "stdout",
     "output_type": "stream",
     "text": [
      "0 bedrooms\n",
      "1 bathrooms\n",
      "2 sqft_living\n",
      "3 sqft_lot\n",
      "4 floors\n",
      "5 view_of_waterfront\n",
      "6 view\n",
      "7 condition\n",
      "8 grade\n",
      "9 sqft_above\n",
      "10 sqft_basement\n",
      "11 yr_built\n",
      "12 yr_renovated\n",
      "13 sqft_living15\n",
      "14 sqft_lot15\n",
      "15 price\n"
     ]
    }
   ],
   "source": [
    "#Use same for loop to check the headers\n",
    "#As we can see the change I wanted to make \n",
    "for x in range(len(data.columns)):\n",
    "    print(x, data.columns[x])"
   ]
  },
  {
   "cell_type": "markdown",
   "id": "7c1b31bd",
   "metadata": {},
   "source": [
    "Now we move onto our next task:</br >\n",
    "~~-Standardize Headers~~ </br >\n",
    "-Check Data Types</br >\n",
    "-Check for duplicates</br >\n",
    "-Check for Null Values</br >\n",
    "&nbsp;&nbsp;&nbsp;&nbsp;-Data.isna().sum()</br >\n",
    "&nbsp;&nbsp;&nbsp;&nbsp;-Data.info()</br >\n",
    "-Check unique values for cat columns</br >\n",
    "-Make sure that numericals are finite numbers</br >"
   ]
  },
  {
   "cell_type": "code",
   "execution_count": 13,
   "id": "5cde3428",
   "metadata": {},
   "outputs": [
    {
     "data": {
      "text/html": [
       "<div>\n",
       "<style scoped>\n",
       "    .dataframe tbody tr th:only-of-type {\n",
       "        vertical-align: middle;\n",
       "    }\n",
       "\n",
       "    .dataframe tbody tr th {\n",
       "        vertical-align: top;\n",
       "    }\n",
       "\n",
       "    .dataframe thead th {\n",
       "        text-align: right;\n",
       "    }\n",
       "</style>\n",
       "<table border=\"1\" class=\"dataframe\">\n",
       "  <thead>\n",
       "    <tr style=\"text-align: right;\">\n",
       "      <th></th>\n",
       "      <th>bedrooms</th>\n",
       "      <th>bathrooms</th>\n",
       "      <th>sqft_living</th>\n",
       "      <th>sqft_lot</th>\n",
       "      <th>floors</th>\n",
       "      <th>view_of_waterfront</th>\n",
       "      <th>view</th>\n",
       "      <th>condition</th>\n",
       "      <th>grade</th>\n",
       "      <th>sqft_above</th>\n",
       "      <th>sqft_basement</th>\n",
       "      <th>yr_built</th>\n",
       "      <th>yr_renovated</th>\n",
       "      <th>sqft_living15</th>\n",
       "      <th>sqft_lot15</th>\n",
       "      <th>price</th>\n",
       "    </tr>\n",
       "  </thead>\n",
       "  <tbody>\n",
       "    <tr>\n",
       "      <th>0</th>\n",
       "      <td>3</td>\n",
       "      <td>1.00</td>\n",
       "      <td>1180</td>\n",
       "      <td>5650</td>\n",
       "      <td>1.0</td>\n",
       "      <td>0</td>\n",
       "      <td>0</td>\n",
       "      <td>3</td>\n",
       "      <td>7</td>\n",
       "      <td>1180</td>\n",
       "      <td>0</td>\n",
       "      <td>1955</td>\n",
       "      <td>0</td>\n",
       "      <td>1340</td>\n",
       "      <td>5650</td>\n",
       "      <td>221900</td>\n",
       "    </tr>\n",
       "    <tr>\n",
       "      <th>1</th>\n",
       "      <td>3</td>\n",
       "      <td>2.25</td>\n",
       "      <td>2570</td>\n",
       "      <td>7242</td>\n",
       "      <td>2.0</td>\n",
       "      <td>0</td>\n",
       "      <td>0</td>\n",
       "      <td>3</td>\n",
       "      <td>7</td>\n",
       "      <td>2170</td>\n",
       "      <td>400</td>\n",
       "      <td>1951</td>\n",
       "      <td>1991</td>\n",
       "      <td>1690</td>\n",
       "      <td>7639</td>\n",
       "      <td>538000</td>\n",
       "    </tr>\n",
       "    <tr>\n",
       "      <th>2</th>\n",
       "      <td>2</td>\n",
       "      <td>1.00</td>\n",
       "      <td>770</td>\n",
       "      <td>10000</td>\n",
       "      <td>1.0</td>\n",
       "      <td>0</td>\n",
       "      <td>0</td>\n",
       "      <td>3</td>\n",
       "      <td>6</td>\n",
       "      <td>770</td>\n",
       "      <td>0</td>\n",
       "      <td>1933</td>\n",
       "      <td>0</td>\n",
       "      <td>2720</td>\n",
       "      <td>8062</td>\n",
       "      <td>180000</td>\n",
       "    </tr>\n",
       "    <tr>\n",
       "      <th>3</th>\n",
       "      <td>4</td>\n",
       "      <td>3.00</td>\n",
       "      <td>1960</td>\n",
       "      <td>5000</td>\n",
       "      <td>1.0</td>\n",
       "      <td>0</td>\n",
       "      <td>0</td>\n",
       "      <td>5</td>\n",
       "      <td>7</td>\n",
       "      <td>1050</td>\n",
       "      <td>910</td>\n",
       "      <td>1965</td>\n",
       "      <td>0</td>\n",
       "      <td>1360</td>\n",
       "      <td>5000</td>\n",
       "      <td>604000</td>\n",
       "    </tr>\n",
       "    <tr>\n",
       "      <th>4</th>\n",
       "      <td>3</td>\n",
       "      <td>2.00</td>\n",
       "      <td>1680</td>\n",
       "      <td>8080</td>\n",
       "      <td>1.0</td>\n",
       "      <td>0</td>\n",
       "      <td>0</td>\n",
       "      <td>3</td>\n",
       "      <td>8</td>\n",
       "      <td>1680</td>\n",
       "      <td>0</td>\n",
       "      <td>1987</td>\n",
       "      <td>0</td>\n",
       "      <td>1800</td>\n",
       "      <td>7503</td>\n",
       "      <td>510000</td>\n",
       "    </tr>\n",
       "  </tbody>\n",
       "</table>\n",
       "</div>"
      ],
      "text/plain": [
       "   bedrooms  bathrooms  sqft_living  sqft_lot  floors  view_of_waterfront  \\\n",
       "0         3       1.00         1180      5650     1.0                   0   \n",
       "1         3       2.25         2570      7242     2.0                   0   \n",
       "2         2       1.00          770     10000     1.0                   0   \n",
       "3         4       3.00         1960      5000     1.0                   0   \n",
       "4         3       2.00         1680      8080     1.0                   0   \n",
       "\n",
       "   view  condition  grade  sqft_above  sqft_basement  yr_built  yr_renovated  \\\n",
       "0     0          3      7        1180              0      1955             0   \n",
       "1     0          3      7        2170            400      1951          1991   \n",
       "2     0          3      6         770              0      1933             0   \n",
       "3     0          5      7        1050            910      1965             0   \n",
       "4     0          3      8        1680              0      1987             0   \n",
       "\n",
       "   sqft_living15  sqft_lot15   price  \n",
       "0           1340        5650  221900  \n",
       "1           1690        7639  538000  \n",
       "2           2720        8062  180000  \n",
       "3           1360        5000  604000  \n",
       "4           1800        7503  510000  "
      ]
     },
     "execution_count": 13,
     "metadata": {},
     "output_type": "execute_result"
    }
   ],
   "source": [
    "#Now we will verify that the data types match the values we have. To do this I will forst use data.head()\n",
    "#Then I will look at our data.dtypes to verify that it mathes.\n",
    "\n",
    "data.head()"
   ]
  },
  {
   "cell_type": "code",
   "execution_count": 14,
   "id": "53a0b552",
   "metadata": {
    "scrolled": true
   },
   "outputs": [
    {
     "data": {
      "text/plain": [
       "bedrooms                int64\n",
       "bathrooms             float64\n",
       "sqft_living             int64\n",
       "sqft_lot                int64\n",
       "floors                float64\n",
       "view_of_waterfront      int64\n",
       "view                    int64\n",
       "condition               int64\n",
       "grade                   int64\n",
       "sqft_above              int64\n",
       "sqft_basement           int64\n",
       "yr_built                int64\n",
       "yr_renovated            int64\n",
       "sqft_living15           int64\n",
       "sqft_lot15              int64\n",
       "price                   int64\n",
       "dtype: object"
      ]
     },
     "execution_count": 14,
     "metadata": {},
     "output_type": "execute_result"
    }
   ],
   "source": [
    "#As we can see below, the data types look correct.\n",
    "data.dtypes"
   ]
  },
  {
   "cell_type": "code",
   "execution_count": 15,
   "id": "66f65569",
   "metadata": {
    "scrolled": true
   },
   "outputs": [
    {
     "data": {
      "text/plain": [
       "1.0    10673\n",
       "2.0     8235\n",
       "1.5     1910\n",
       "3.0      611\n",
       "2.5      161\n",
       "3.5        7\n",
       "Name: floors, dtype: int64"
      ]
     },
     "execution_count": 15,
     "metadata": {},
     "output_type": "execute_result"
    }
   ],
   "source": [
    "data['floors'].value_counts()"
   ]
  },
  {
   "cell_type": "markdown",
   "id": "62380e12",
   "metadata": {},
   "source": [
    "Now we move onto our next task:</br >\n",
    "~~-Standardize Headers~~ </br >\n",
    "~~-Check Data Types</br >~~\n",
    "-Check for duplicates</br >\n",
    "-Check for Null Values</br >\n",
    "&nbsp;&nbsp;&nbsp;&nbsp;-Data.isna().sum()</br >\n",
    "&nbsp;&nbsp;&nbsp;&nbsp;-Data.info()</br >\n",
    "-Check unique values for cat columns</br >\n",
    "-Make sure that numericals are finite numbers</br >"
   ]
  },
  {
   "cell_type": "code",
   "execution_count": 16,
   "id": "a4066e80",
   "metadata": {},
   "outputs": [
    {
     "data": {
      "text/plain": [
       "6"
      ]
     },
     "execution_count": 16,
     "metadata": {},
     "output_type": "execute_result"
    }
   ],
   "source": [
    "#We will now check for duplicates.\n",
    "#To do so, the simplest method would be data.duplicated; Which returns a series of True/False values.\n",
    "#With a series we can use .sum() to get a count on all the True, which will indicate if there are duplicates.\n",
    "data.duplicated().sum()"
   ]
  },
  {
   "cell_type": "code",
   "execution_count": 17,
   "id": "51d79d15",
   "metadata": {
    "scrolled": true
   },
   "outputs": [
    {
     "data": {
      "text/html": [
       "<div>\n",
       "<style scoped>\n",
       "    .dataframe tbody tr th:only-of-type {\n",
       "        vertical-align: middle;\n",
       "    }\n",
       "\n",
       "    .dataframe tbody tr th {\n",
       "        vertical-align: top;\n",
       "    }\n",
       "\n",
       "    .dataframe thead th {\n",
       "        text-align: right;\n",
       "    }\n",
       "</style>\n",
       "<table border=\"1\" class=\"dataframe\">\n",
       "  <thead>\n",
       "    <tr style=\"text-align: right;\">\n",
       "      <th></th>\n",
       "      <th>bedrooms</th>\n",
       "      <th>bathrooms</th>\n",
       "      <th>sqft_living</th>\n",
       "      <th>sqft_lot</th>\n",
       "      <th>floors</th>\n",
       "      <th>view_of_waterfront</th>\n",
       "      <th>view</th>\n",
       "      <th>condition</th>\n",
       "      <th>grade</th>\n",
       "      <th>sqft_above</th>\n",
       "      <th>sqft_basement</th>\n",
       "      <th>yr_built</th>\n",
       "      <th>yr_renovated</th>\n",
       "      <th>sqft_living15</th>\n",
       "      <th>sqft_lot15</th>\n",
       "      <th>price</th>\n",
       "    </tr>\n",
       "  </thead>\n",
       "  <tbody>\n",
       "    <tr>\n",
       "      <th>547</th>\n",
       "      <td>2</td>\n",
       "      <td>2.00</td>\n",
       "      <td>1070</td>\n",
       "      <td>649</td>\n",
       "      <td>2.0</td>\n",
       "      <td>0</td>\n",
       "      <td>0</td>\n",
       "      <td>3</td>\n",
       "      <td>9</td>\n",
       "      <td>720</td>\n",
       "      <td>350</td>\n",
       "      <td>2008</td>\n",
       "      <td>0</td>\n",
       "      <td>1070</td>\n",
       "      <td>928</td>\n",
       "      <td>259950</td>\n",
       "    </tr>\n",
       "    <tr>\n",
       "      <th>3946</th>\n",
       "      <td>4</td>\n",
       "      <td>1.75</td>\n",
       "      <td>2410</td>\n",
       "      <td>8447</td>\n",
       "      <td>2.0</td>\n",
       "      <td>0</td>\n",
       "      <td>3</td>\n",
       "      <td>4</td>\n",
       "      <td>8</td>\n",
       "      <td>2060</td>\n",
       "      <td>350</td>\n",
       "      <td>1936</td>\n",
       "      <td>1980</td>\n",
       "      <td>2520</td>\n",
       "      <td>14789</td>\n",
       "      <td>550000</td>\n",
       "    </tr>\n",
       "    <tr>\n",
       "      <th>3947</th>\n",
       "      <td>4</td>\n",
       "      <td>1.75</td>\n",
       "      <td>2410</td>\n",
       "      <td>8447</td>\n",
       "      <td>2.0</td>\n",
       "      <td>0</td>\n",
       "      <td>3</td>\n",
       "      <td>4</td>\n",
       "      <td>8</td>\n",
       "      <td>2060</td>\n",
       "      <td>350</td>\n",
       "      <td>1936</td>\n",
       "      <td>1980</td>\n",
       "      <td>2520</td>\n",
       "      <td>14789</td>\n",
       "      <td>550000</td>\n",
       "    </tr>\n",
       "    <tr>\n",
       "      <th>4348</th>\n",
       "      <td>2</td>\n",
       "      <td>2.00</td>\n",
       "      <td>1070</td>\n",
       "      <td>649</td>\n",
       "      <td>2.0</td>\n",
       "      <td>0</td>\n",
       "      <td>0</td>\n",
       "      <td>3</td>\n",
       "      <td>9</td>\n",
       "      <td>720</td>\n",
       "      <td>350</td>\n",
       "      <td>2008</td>\n",
       "      <td>0</td>\n",
       "      <td>1070</td>\n",
       "      <td>928</td>\n",
       "      <td>259950</td>\n",
       "    </tr>\n",
       "    <tr>\n",
       "      <th>14968</th>\n",
       "      <td>3</td>\n",
       "      <td>2.50</td>\n",
       "      <td>2290</td>\n",
       "      <td>5089</td>\n",
       "      <td>2.0</td>\n",
       "      <td>0</td>\n",
       "      <td>0</td>\n",
       "      <td>3</td>\n",
       "      <td>9</td>\n",
       "      <td>2290</td>\n",
       "      <td>0</td>\n",
       "      <td>2001</td>\n",
       "      <td>0</td>\n",
       "      <td>2290</td>\n",
       "      <td>7984</td>\n",
       "      <td>585000</td>\n",
       "    </tr>\n",
       "    <tr>\n",
       "      <th>14969</th>\n",
       "      <td>3</td>\n",
       "      <td>2.50</td>\n",
       "      <td>2290</td>\n",
       "      <td>5089</td>\n",
       "      <td>2.0</td>\n",
       "      <td>0</td>\n",
       "      <td>0</td>\n",
       "      <td>3</td>\n",
       "      <td>9</td>\n",
       "      <td>2290</td>\n",
       "      <td>0</td>\n",
       "      <td>2001</td>\n",
       "      <td>0</td>\n",
       "      <td>2290</td>\n",
       "      <td>7984</td>\n",
       "      <td>585000</td>\n",
       "    </tr>\n",
       "    <tr>\n",
       "      <th>19620</th>\n",
       "      <td>3</td>\n",
       "      <td>2.25</td>\n",
       "      <td>1410</td>\n",
       "      <td>905</td>\n",
       "      <td>3.0</td>\n",
       "      <td>0</td>\n",
       "      <td>0</td>\n",
       "      <td>3</td>\n",
       "      <td>9</td>\n",
       "      <td>1410</td>\n",
       "      <td>0</td>\n",
       "      <td>2014</td>\n",
       "      <td>0</td>\n",
       "      <td>1510</td>\n",
       "      <td>1352</td>\n",
       "      <td>529500</td>\n",
       "    </tr>\n",
       "    <tr>\n",
       "      <th>20037</th>\n",
       "      <td>3</td>\n",
       "      <td>2.50</td>\n",
       "      <td>1940</td>\n",
       "      <td>3211</td>\n",
       "      <td>2.0</td>\n",
       "      <td>0</td>\n",
       "      <td>0</td>\n",
       "      <td>3</td>\n",
       "      <td>8</td>\n",
       "      <td>1940</td>\n",
       "      <td>0</td>\n",
       "      <td>2009</td>\n",
       "      <td>0</td>\n",
       "      <td>1880</td>\n",
       "      <td>3078</td>\n",
       "      <td>555000</td>\n",
       "    </tr>\n",
       "    <tr>\n",
       "      <th>20038</th>\n",
       "      <td>3</td>\n",
       "      <td>2.50</td>\n",
       "      <td>1940</td>\n",
       "      <td>3211</td>\n",
       "      <td>2.0</td>\n",
       "      <td>0</td>\n",
       "      <td>0</td>\n",
       "      <td>3</td>\n",
       "      <td>8</td>\n",
       "      <td>1940</td>\n",
       "      <td>0</td>\n",
       "      <td>2009</td>\n",
       "      <td>0</td>\n",
       "      <td>1880</td>\n",
       "      <td>3078</td>\n",
       "      <td>555000</td>\n",
       "    </tr>\n",
       "    <tr>\n",
       "      <th>20508</th>\n",
       "      <td>3</td>\n",
       "      <td>2.25</td>\n",
       "      <td>1410</td>\n",
       "      <td>905</td>\n",
       "      <td>3.0</td>\n",
       "      <td>0</td>\n",
       "      <td>0</td>\n",
       "      <td>3</td>\n",
       "      <td>9</td>\n",
       "      <td>1410</td>\n",
       "      <td>0</td>\n",
       "      <td>2014</td>\n",
       "      <td>0</td>\n",
       "      <td>1510</td>\n",
       "      <td>1352</td>\n",
       "      <td>529500</td>\n",
       "    </tr>\n",
       "    <tr>\n",
       "      <th>20611</th>\n",
       "      <td>5</td>\n",
       "      <td>2.50</td>\n",
       "      <td>2170</td>\n",
       "      <td>2752</td>\n",
       "      <td>2.0</td>\n",
       "      <td>0</td>\n",
       "      <td>0</td>\n",
       "      <td>3</td>\n",
       "      <td>8</td>\n",
       "      <td>2170</td>\n",
       "      <td>0</td>\n",
       "      <td>2014</td>\n",
       "      <td>0</td>\n",
       "      <td>1800</td>\n",
       "      <td>2752</td>\n",
       "      <td>359800</td>\n",
       "    </tr>\n",
       "    <tr>\n",
       "      <th>21458</th>\n",
       "      <td>5</td>\n",
       "      <td>2.50</td>\n",
       "      <td>2170</td>\n",
       "      <td>2752</td>\n",
       "      <td>2.0</td>\n",
       "      <td>0</td>\n",
       "      <td>0</td>\n",
       "      <td>3</td>\n",
       "      <td>8</td>\n",
       "      <td>2170</td>\n",
       "      <td>0</td>\n",
       "      <td>2014</td>\n",
       "      <td>0</td>\n",
       "      <td>1800</td>\n",
       "      <td>2752</td>\n",
       "      <td>359800</td>\n",
       "    </tr>\n",
       "  </tbody>\n",
       "</table>\n",
       "</div>"
      ],
      "text/plain": [
       "       bedrooms  bathrooms  sqft_living  sqft_lot  floors  view_of_waterfront  \\\n",
       "547           2       2.00         1070       649     2.0                   0   \n",
       "3946          4       1.75         2410      8447     2.0                   0   \n",
       "3947          4       1.75         2410      8447     2.0                   0   \n",
       "4348          2       2.00         1070       649     2.0                   0   \n",
       "14968         3       2.50         2290      5089     2.0                   0   \n",
       "14969         3       2.50         2290      5089     2.0                   0   \n",
       "19620         3       2.25         1410       905     3.0                   0   \n",
       "20037         3       2.50         1940      3211     2.0                   0   \n",
       "20038         3       2.50         1940      3211     2.0                   0   \n",
       "20508         3       2.25         1410       905     3.0                   0   \n",
       "20611         5       2.50         2170      2752     2.0                   0   \n",
       "21458         5       2.50         2170      2752     2.0                   0   \n",
       "\n",
       "       view  condition  grade  sqft_above  sqft_basement  yr_built  \\\n",
       "547       0          3      9         720            350      2008   \n",
       "3946      3          4      8        2060            350      1936   \n",
       "3947      3          4      8        2060            350      1936   \n",
       "4348      0          3      9         720            350      2008   \n",
       "14968     0          3      9        2290              0      2001   \n",
       "14969     0          3      9        2290              0      2001   \n",
       "19620     0          3      9        1410              0      2014   \n",
       "20037     0          3      8        1940              0      2009   \n",
       "20038     0          3      8        1940              0      2009   \n",
       "20508     0          3      9        1410              0      2014   \n",
       "20611     0          3      8        2170              0      2014   \n",
       "21458     0          3      8        2170              0      2014   \n",
       "\n",
       "       yr_renovated  sqft_living15  sqft_lot15   price  \n",
       "547               0           1070         928  259950  \n",
       "3946           1980           2520       14789  550000  \n",
       "3947           1980           2520       14789  550000  \n",
       "4348              0           1070         928  259950  \n",
       "14968             0           2290        7984  585000  \n",
       "14969             0           2290        7984  585000  \n",
       "19620             0           1510        1352  529500  \n",
       "20037             0           1880        3078  555000  \n",
       "20038             0           1880        3078  555000  \n",
       "20508             0           1510        1352  529500  \n",
       "20611             0           1800        2752  359800  \n",
       "21458             0           1800        2752  359800  "
      ]
     },
     "execution_count": 17,
     "metadata": {},
     "output_type": "execute_result"
    }
   ],
   "source": [
    "#Now before wildy removing data, I will look at the data to ensure that they are duplicates.\n",
    "data[data.duplicated(keep = False)]"
   ]
  },
  {
   "cell_type": "code",
   "execution_count": 18,
   "id": "303eba57",
   "metadata": {},
   "outputs": [],
   "source": [
    "#Now that we've ensured that the duplicates are in fact duplicates, we will drop those rows using .dropna()\n",
    "\n",
    "data = data.dropna()"
   ]
  },
  {
   "cell_type": "markdown",
   "id": "3e406104",
   "metadata": {},
   "source": [
    "Now we move onto our next task:</br >\n",
    "~~-Standardize Headers~~ </br >\n",
    "~~-Check Data Types</br >~~\n",
    "~~-Check for duplicates</br >~~\n",
    "-Check for Null Values</br >\n",
    "&nbsp;&nbsp;&nbsp;&nbsp;-Data.isna().sum()</br >\n",
    "&nbsp;&nbsp;&nbsp;&nbsp;-Data.info()</br >\n",
    "-Check unique values for cat columns</br >\n",
    "-Make sure that numericals are finite numbers</br >"
   ]
  },
  {
   "cell_type": "code",
   "execution_count": 19,
   "id": "b020d982",
   "metadata": {},
   "outputs": [
    {
     "data": {
      "text/plain": [
       "bedrooms              0\n",
       "bathrooms             0\n",
       "sqft_living           0\n",
       "sqft_lot              0\n",
       "floors                0\n",
       "view_of_waterfront    0\n",
       "view                  0\n",
       "condition             0\n",
       "grade                 0\n",
       "sqft_above            0\n",
       "sqft_basement         0\n",
       "yr_built              0\n",
       "yr_renovated          0\n",
       "sqft_living15         0\n",
       "sqft_lot15            0\n",
       "price                 0\n",
       "dtype: int64"
      ]
     },
     "execution_count": 19,
     "metadata": {},
     "output_type": "execute_result"
    }
   ],
   "source": [
    "#Now we will check for null values. There is 2 ways to approach this.\n",
    "#data.isna() and data.info()\n",
    "\n",
    "#data.isna makes a DataFrame using the same structure as our data, but the difference is that it replace null values with True\n",
    "#values and replaces non-null values with False values.\n",
    "#Since we only have True and False values, and every column in a pandas DataFrame is a series, .sum() will work in this instance\n",
    "#.sum() will give us the amount of null values for every column.\n",
    "data.isna().sum()"
   ]
  },
  {
   "cell_type": "code",
   "execution_count": 20,
   "id": "e75eaa94",
   "metadata": {},
   "outputs": [
    {
     "name": "stdout",
     "output_type": "stream",
     "text": [
      "<class 'pandas.core.frame.DataFrame'>\n",
      "Int64Index: 21597 entries, 0 to 21596\n",
      "Data columns (total 16 columns):\n",
      " #   Column              Non-Null Count  Dtype  \n",
      "---  ------              --------------  -----  \n",
      " 0   bedrooms            21597 non-null  int64  \n",
      " 1   bathrooms           21597 non-null  float64\n",
      " 2   sqft_living         21597 non-null  int64  \n",
      " 3   sqft_lot            21597 non-null  int64  \n",
      " 4   floors              21597 non-null  float64\n",
      " 5   view_of_waterfront  21597 non-null  int64  \n",
      " 6   view                21597 non-null  int64  \n",
      " 7   condition           21597 non-null  int64  \n",
      " 8   grade               21597 non-null  int64  \n",
      " 9   sqft_above          21597 non-null  int64  \n",
      " 10  sqft_basement       21597 non-null  int64  \n",
      " 11  yr_built            21597 non-null  int64  \n",
      " 12  yr_renovated        21597 non-null  int64  \n",
      " 13  sqft_living15       21597 non-null  int64  \n",
      " 14  sqft_lot15          21597 non-null  int64  \n",
      " 15  price               21597 non-null  int64  \n",
      "dtypes: float64(2), int64(14)\n",
      "memory usage: 2.8 MB\n"
     ]
    }
   ],
   "source": [
    "#The other method we can use to check is data.info()\n",
    "#The \"Non-Null Count\" should match the amount of rows we have, which in this case it does based on the \"RangeIndex\"\n",
    "data.info()"
   ]
  },
  {
   "cell_type": "markdown",
   "id": "f1d54a9d",
   "metadata": {},
   "source": [
    "Seeing that there are no null values, we shall move onto the next task:</br >\n",
    "~~-Standardize Headers~~ </br >\n",
    "~~-Check Data Types</br >\n",
    "-Check for duplicates</br >\n",
    "-Check for Null Values</br >~~\n",
    "&nbsp;&nbsp;&nbsp;&nbsp;~~-Data.isna().sum()</br >~~\n",
    "&nbsp;&nbsp;&nbsp;&nbsp;~~-Data.info()</br >~~\n",
    "-Check unique values for cat columns</br >\n",
    "-Make sure that numericals are finite numbers</br >"
   ]
  },
  {
   "cell_type": "code",
   "execution_count": 21,
   "id": "03334a48",
   "metadata": {},
   "outputs": [],
   "source": [
    "#Now we check our values in our categorical columns to ensure we dont have any redundant information.\n",
    "#But due to the information we are working with, this is unnecessary since all of our columns are numerical."
   ]
  },
  {
   "cell_type": "markdown",
   "id": "4afe6b2d",
   "metadata": {},
   "source": [
    "Due to the lack of categorical columns we can move onto the final task:</br >\n",
    "-~~Standardize Headers~~ </br >\n",
    "-~~Check Data Types~~</br >\n",
    "-~~Check for duplicates~~</br >\n",
    "-~~Check for Null Values~~</br >\n",
    "&nbsp;&nbsp;&nbsp;&nbsp;-~~Data.isna().sum()</br >~~\n",
    "&nbsp;&nbsp;&nbsp;&nbsp;-~~Data.info()</br >~~\n",
    "-~~Check unique values for cat columns</br >~~\n",
    "-Make sure that numericals are finite numbers</br >"
   ]
  },
  {
   "cell_type": "code",
   "execution_count": 22,
   "id": "d932917f",
   "metadata": {},
   "outputs": [
    {
     "data": {
      "text/plain": [
       "0"
      ]
     },
     "execution_count": 22,
     "metadata": {},
     "output_type": "execute_result"
    }
   ],
   "source": [
    "#To check for infinite numbers, numpy as a built in function that returns a series of True and False values\n",
    "#So once again, since it returns a series, we can use .sum() to get a count of True values, which in this instance represent\n",
    "#infinite values.\n",
    "import numpy as np\n",
    "  \n",
    "count = np.isinf(data).values.sum()\n",
    "count"
   ]
  },
  {
   "cell_type": "raw",
   "id": "28e9bf03",
   "metadata": {},
   "source": [
    "Seeing that we have no infinte values we can move onto our next step."
   ]
  },
  {
   "cell_type": "markdown",
   "id": "09b3f98a",
   "metadata": {},
   "source": [
    "# EDA (Explorative Data Analysis)"
   ]
  },
  {
   "cell_type": "raw",
   "id": "1fa80e4a",
   "metadata": {},
   "source": [
    "In this step we will be looking at a few different things:\n",
    "-Outliers\n",
    "-Transforming/Encoding\n",
    "-Making models\n",
    "-Scoring models\n",
    "\n",
    "We will be doing this various times because we will be changing features to see if that change makes a difference in the model accuracy."
   ]
  },
  {
   "cell_type": "code",
   "execution_count": 23,
   "id": "631ab971",
   "metadata": {},
   "outputs": [],
   "source": [
    "#Saving the original amount of rows in our data into a variable for seeing how many rows of data we lost.\n",
    "o_size = data.shape[0]"
   ]
  },
  {
   "cell_type": "markdown",
   "id": "e28beb95",
   "metadata": {},
   "source": [
    "# ------------------------------------------------------------------\n",
    "# With bedrooms and such dataas numericals, not log transformed."
   ]
  },
  {
   "cell_type": "code",
   "execution_count": 24,
   "id": "b2f1721f",
   "metadata": {},
   "outputs": [],
   "source": [
    "numericals_1 = data.select_dtypes(np.number)\n",
    "categoricals_1 = data.select_dtypes(object)\n",
    "data_1 = data"
   ]
  },
  {
   "cell_type": "code",
   "execution_count": 25,
   "id": "c19ecdbf",
   "metadata": {},
   "outputs": [
    {
     "name": "stderr",
     "output_type": "stream",
     "text": [
      "C:\\Users\\Alex\\anaconda3\\lib\\site-packages\\seaborn\\distributions.py:2619: FutureWarning: `distplot` is a deprecated function and will be removed in a future version. Please adapt your code to use either `displot` (a figure-level function with similar flexibility) or `histplot` (an axes-level function for histograms).\n",
      "  warnings.warn(msg, FutureWarning)\n"
     ]
    },
    {
     "data": {
      "image/png": "[encoded data removed]",
      "text/plain": [
       "<Figure size 432x288 with 1 Axes>"
      ]
     },
     "metadata": {
      "needs_background": "light"
     },
     "output_type": "display_data"
    },
    {
     "name": "stderr",
     "output_type": "stream",
     "text": [
      "C:\\Users\\Alex\\anaconda3\\lib\\site-packages\\seaborn\\distributions.py:2619: FutureWarning: `distplot` is a deprecated function and will be removed in a future version. Please adapt your code to use either `displot` (a figure-level function with similar flexibility) or `histplot` (an axes-level function for histograms).\n",
      "  warnings.warn(msg, FutureWarning)\n"
     ]
    },
    {
     "data": {
      "image/png": "[encoded data removed]",
      "text/plain": [
       "<Figure size 432x288 with 1 Axes>"
      ]
     },
     "metadata": {
      "needs_background": "light"
     },
     "output_type": "display_data"
    },
    {
     "name": "stderr",
     "output_type": "stream",
     "text": [
      "C:\\Users\\Alex\\anaconda3\\lib\\site-packages\\seaborn\\distributions.py:2619: FutureWarning: `distplot` is a deprecated function and will be removed in a future version. Please adapt your code to use either `displot` (a figure-level function with similar flexibility) or `histplot` (an axes-level function for histograms).\n",
      "  warnings.warn(msg, FutureWarning)\n"
     ]
    },
    {
     "data": {
      "image/png": "[encoded data removed]",
      "text/plain": [
       "<Figure size 432x288 with 1 Axes>"
      ]
     },
     "metadata": {
      "needs_background": "light"
     },
     "output_type": "display_data"
    },
    {
     "name": "stderr",
     "output_type": "stream",
     "text": [
      "C:\\Users\\Alex\\anaconda3\\lib\\site-packages\\seaborn\\distributions.py:2619: FutureWarning: `distplot` is a deprecated function and will be removed in a future version. Please adapt your code to use either `displot` (a figure-level function with similar flexibility) or `histplot` (an axes-level function for histograms).\n",
      "  warnings.warn(msg, FutureWarning)\n"
     ]
    },
    {
     "data": {
      "image/png": "[encoded data removed]",
      "text/plain": [
       "<Figure size 432x288 with 1 Axes>"
      ]
     },
     "metadata": {
      "needs_background": "light"
     },
     "output_type": "display_data"
    },
    {
     "name": "stderr",
     "output_type": "stream",
     "text": [
      "C:\\Users\\Alex\\anaconda3\\lib\\site-packages\\seaborn\\distributions.py:2619: FutureWarning: `distplot` is a deprecated function and will be removed in a future version. Please adapt your code to use either `displot` (a figure-level function with similar flexibility) or `histplot` (an axes-level function for histograms).\n",
      "  warnings.warn(msg, FutureWarning)\n"
     ]
    },
    {
     "data": {
      "image/png": "[encoded data removed]",
      "text/plain": [
       "<Figure size 432x288 with 1 Axes>"
      ]
     },
     "metadata": {
      "needs_background": "light"
     },
     "output_type": "display_data"
    },
    {
     "name": "stderr",
     "output_type": "stream",
     "text": [
      "C:\\Users\\Alex\\anaconda3\\lib\\site-packages\\seaborn\\distributions.py:2619: FutureWarning: `distplot` is a deprecated function and will be removed in a future version. Please adapt your code to use either `displot` (a figure-level function with similar flexibility) or `histplot` (an axes-level function for histograms).\n",
      "  warnings.warn(msg, FutureWarning)\n"
     ]
    },
    {
     "data": {
      "image/png": "[encoded data removed]",
      "text/plain": [
       "<Figure size 432x288 with 1 Axes>"
      ]
     },
     "metadata": {
      "needs_background": "light"
     },
     "output_type": "display_data"
    },
    {
     "name": "stderr",
     "output_type": "stream",
     "text": [
      "C:\\Users\\Alex\\anaconda3\\lib\\site-packages\\seaborn\\distributions.py:2619: FutureWarning: `distplot` is a deprecated function and will be removed in a future version. Please adapt your code to use either `displot` (a figure-level function with similar flexibility) or `histplot` (an axes-level function for histograms).\n",
      "  warnings.warn(msg, FutureWarning)\n"
     ]
    },
    {
     "data": {
      "image/png": "[encoded data removed]",
      "text/plain": [
       "<Figure size 432x288 with 1 Axes>"
      ]
     },
     "metadata": {
      "needs_background": "light"
     },
     "output_type": "display_data"
    },
    {
     "name": "stderr",
     "output_type": "stream",
     "text": [
      "C:\\Users\\Alex\\anaconda3\\lib\\site-packages\\seaborn\\distributions.py:2619: FutureWarning: `distplot` is a deprecated function and will be removed in a future version. Please adapt your code to use either `displot` (a figure-level function with similar flexibility) or `histplot` (an axes-level function for histograms).\n",
      "  warnings.warn(msg, FutureWarning)\n"
     ]
    },
    {
     "data": {
      "image/png": "[encoded data removed]",
      "text/plain": [
       "<Figure size 432x288 with 1 Axes>"
      ]
     },
     "metadata": {
      "needs_background": "light"
     },
     "output_type": "display_data"
    },
    {
     "name": "stderr",
     "output_type": "stream",
     "text": [
      "C:\\Users\\Alex\\anaconda3\\lib\\site-packages\\seaborn\\distributions.py:2619: FutureWarning: `distplot` is a deprecated function and will be removed in a future version. Please adapt your code to use either `displot` (a figure-level function with similar flexibility) or `histplot` (an axes-level function for histograms).\n",
      "  warnings.warn(msg, FutureWarning)\n"
     ]
    },
    {
     "data": {
      "image/png": "[encoded data removed]",
      "text/plain": [
       "<Figure size 432x288 with 1 Axes>"
      ]
     },
     "metadata": {
      "needs_background": "light"
     },
     "output_type": "display_data"
    },
    {
     "name": "stderr",
     "output_type": "stream",
     "text": [
      "C:\\Users\\Alex\\anaconda3\\lib\\site-packages\\seaborn\\distributions.py:2619: FutureWarning: `distplot` is a deprecated function and will be removed in a future version. Please adapt your code to use either `displot` (a figure-level function with similar flexibility) or `histplot` (an axes-level function for histograms).\n",
      "  warnings.warn(msg, FutureWarning)\n"
     ]
    },
    {
     "data": {
      "image/png": "[encoded data removed]",
      "text/plain": [
       "<Figure size 432x288 with 1 Axes>"
      ]
     },
     "metadata": {
      "needs_background": "light"
     },
     "output_type": "display_data"
    },
    {
     "name": "stderr",
     "output_type": "stream",
     "text": [
      "C:\\Users\\Alex\\anaconda3\\lib\\site-packages\\seaborn\\distributions.py:2619: FutureWarning: `distplot` is a deprecated function and will be removed in a future version. Please adapt your code to use either `displot` (a figure-level function with similar flexibility) or `histplot` (an axes-level function for histograms).\n",
      "  warnings.warn(msg, FutureWarning)\n"
     ]
    },
    {
     "data": {
      "image/png": "[encoded data removed]",
      "text/plain": [
       "<Figure size 432x288 with 1 Axes>"
      ]
     },
     "metadata": {
      "needs_background": "light"
     },
     "output_type": "display_data"
    },
    {
     "name": "stderr",
     "output_type": "stream",
     "text": [
      "C:\\Users\\Alex\\anaconda3\\lib\\site-packages\\seaborn\\distributions.py:2619: FutureWarning: `distplot` is a deprecated function and will be removed in a future version. Please adapt your code to use either `displot` (a figure-level function with similar flexibility) or `histplot` (an axes-level function for histograms).\n",
      "  warnings.warn(msg, FutureWarning)\n"
     ]
    },
    {
     "data": {
      "image/png": "[encoded data removed]",
      "text/plain": [
       "<Figure size 432x288 with 1 Axes>"
      ]
     },
     "metadata": {
      "needs_background": "light"
     },
     "output_type": "display_data"
    },
    {
     "name": "stderr",
     "output_type": "stream",
     "text": [
      "C:\\Users\\Alex\\anaconda3\\lib\\site-packages\\seaborn\\distributions.py:2619: FutureWarning: `distplot` is a deprecated function and will be removed in a future version. Please adapt your code to use either `displot` (a figure-level function with similar flexibility) or `histplot` (an axes-level function for histograms).\n",
      "  warnings.warn(msg, FutureWarning)\n"
     ]
    },
    {
     "data": {
      "image/png": "[encoded data removed]",
      "text/plain": [
       "<Figure size 432x288 with 1 Axes>"
      ]
     },
     "metadata": {
      "needs_background": "light"
     },
     "output_type": "display_data"
    },
    {
     "name": "stderr",
     "output_type": "stream",
     "text": [
      "C:\\Users\\Alex\\anaconda3\\lib\\site-packages\\seaborn\\distributions.py:2619: FutureWarning: `distplot` is a deprecated function and will be removed in a future version. Please adapt your code to use either `displot` (a figure-level function with similar flexibility) or `histplot` (an axes-level function for histograms).\n",
      "  warnings.warn(msg, FutureWarning)\n"
     ]
    },
    {
     "data": {
      "image/png": "[encoded data removed]",
      "text/plain": [
       "<Figure size 432x288 with 1 Axes>"
      ]
     },
     "metadata": {
      "needs_background": "light"
     },
     "output_type": "display_data"
    },
    {
     "name": "stderr",
     "output_type": "stream",
     "text": [
      "C:\\Users\\Alex\\anaconda3\\lib\\site-packages\\seaborn\\distributions.py:2619: FutureWarning: `distplot` is a deprecated function and will be removed in a future version. Please adapt your code to use either `displot` (a figure-level function with similar flexibility) or `histplot` (an axes-level function for histograms).\n",
      "  warnings.warn(msg, FutureWarning)\n"
     ]
    },
    {
     "data": {
      "image/png": "[encoded data removed]",
      "text/plain": [
       "<Figure size 432x288 with 1 Axes>"
      ]
     },
     "metadata": {
      "needs_background": "light"
     },
     "output_type": "display_data"
    },
    {
     "name": "stderr",
     "output_type": "stream",
     "text": [
      "C:\\Users\\Alex\\anaconda3\\lib\\site-packages\\seaborn\\distributions.py:2619: FutureWarning: `distplot` is a deprecated function and will be removed in a future version. Please adapt your code to use either `displot` (a figure-level function with similar flexibility) or `histplot` (an axes-level function for histograms).\n",
      "  warnings.warn(msg, FutureWarning)\n"
     ]
    },
    {
     "data": {
      "image/png": "[encoded data removed]",
      "text/plain": [
       "<Figure size 432x288 with 1 Axes>"
      ]
     },
     "metadata": {
      "needs_background": "light"
     },
     "output_type": "display_data"
    }
   ],
   "source": [
    "# So I will now be checking for outliers in my data, to do this I will be creating a for loop to graph a dist plot for every\n",
    "# column in my data set.\n",
    "# I will be looking for any sort of trailing or \"tails\"\n",
    "\n",
    "for x in numericals_1.columns:\n",
    "    sns.distplot(data_1[x])\n",
    "    plt.show()"
   ]
  },
  {
   "cell_type": "raw",
   "id": "95200237",
   "metadata": {},
   "source": [
    "Looking at the outcome of the above loop we can see that the following graphs have trailing:\n",
    "    bedrooms\n",
    "    bathrooms\n",
    "    sqft_living\n",
    "    sqft_lot\n",
    "    view_of_waterfront\n",
    "    view\n",
    "    sqft_above\n",
    "    sqft_basement\n",
    "    \n",
    "Due to the nature of our code, it is safe to believe that 1 outlier in our data set has outliers in other categories.\n",
    "I will remove those outliers then recheck our graphs."
   ]
  },
  {
   "cell_type": "code",
   "execution_count": 26,
   "id": "5f99b200",
   "metadata": {},
   "outputs": [],
   "source": [
    "iqr = np.percentile(data['bedrooms'],75) - np.percentile(data['bedrooms'],25)\n",
    "upper_limit = np.percentile(data['bedrooms'],75) + 1.5*iqr\n",
    "lower_limit = np.percentile(data['bedrooms'],25) - 1.5*iqr\n",
    "data_1 = data_1[data['bedrooms'] < upper_limit]"
   ]
  },
  {
   "cell_type": "code",
   "execution_count": 27,
   "id": "1689d851",
   "metadata": {},
   "outputs": [
    {
     "name": "stderr",
     "output_type": "stream",
     "text": [
      "C:\\Users\\Alex\\anaconda3\\lib\\site-packages\\seaborn\\distributions.py:2619: FutureWarning: `distplot` is a deprecated function and will be removed in a future version. Please adapt your code to use either `displot` (a figure-level function with similar flexibility) or `histplot` (an axes-level function for histograms).\n",
      "  warnings.warn(msg, FutureWarning)\n"
     ]
    },
    {
     "data": {
      "image/png": "[encoded data removed]",
      "text/plain": [
       "<Figure size 432x288 with 1 Axes>"
      ]
     },
     "metadata": {
      "needs_background": "light"
     },
     "output_type": "display_data"
    },
    {
     "name": "stderr",
     "output_type": "stream",
     "text": [
      "C:\\Users\\Alex\\anaconda3\\lib\\site-packages\\seaborn\\distributions.py:2619: FutureWarning: `distplot` is a deprecated function and will be removed in a future version. Please adapt your code to use either `displot` (a figure-level function with similar flexibility) or `histplot` (an axes-level function for histograms).\n",
      "  warnings.warn(msg, FutureWarning)\n"
     ]
    },
    {
     "data": {
      "image/png": "[encoded data removed]",
      "text/plain": [
       "<Figure size 432x288 with 1 Axes>"
      ]
     },
     "metadata": {
      "needs_background": "light"
     },
     "output_type": "display_data"
    },
    {
     "name": "stderr",
     "output_type": "stream",
     "text": [
      "C:\\Users\\Alex\\anaconda3\\lib\\site-packages\\seaborn\\distributions.py:2619: FutureWarning: `distplot` is a deprecated function and will be removed in a future version. Please adapt your code to use either `displot` (a figure-level function with similar flexibility) or `histplot` (an axes-level function for histograms).\n",
      "  warnings.warn(msg, FutureWarning)\n"
     ]
    },
    {
     "data": {
      "image/png": "[encoded data removed]",
      "text/plain": [
       "<Figure size 432x288 with 1 Axes>"
      ]
     },
     "metadata": {
      "needs_background": "light"
     },
     "output_type": "display_data"
    },
    {
     "name": "stderr",
     "output_type": "stream",
     "text": [
      "C:\\Users\\Alex\\anaconda3\\lib\\site-packages\\seaborn\\distributions.py:2619: FutureWarning: `distplot` is a deprecated function and will be removed in a future version. Please adapt your code to use either `displot` (a figure-level function with similar flexibility) or `histplot` (an axes-level function for histograms).\n",
      "  warnings.warn(msg, FutureWarning)\n"
     ]
    },
    {
     "data": {
      "image/png": "[encoded data removed]",
      "text/plain": [
       "<Figure size 432x288 with 1 Axes>"
      ]
     },
     "metadata": {
      "needs_background": "light"
     },
     "output_type": "display_data"
    },
    {
     "name": "stderr",
     "output_type": "stream",
     "text": [
      "C:\\Users\\Alex\\anaconda3\\lib\\site-packages\\seaborn\\distributions.py:2619: FutureWarning: `distplot` is a deprecated function and will be removed in a future version. Please adapt your code to use either `displot` (a figure-level function with similar flexibility) or `histplot` (an axes-level function for histograms).\n",
      "  warnings.warn(msg, FutureWarning)\n"
     ]
    },
    {
     "data": {
      "image/png": "[encoded data removed]",
      "text/plain": [
       "<Figure size 432x288 with 1 Axes>"
      ]
     },
     "metadata": {
      "needs_background": "light"
     },
     "output_type": "display_data"
    },
    {
     "name": "stderr",
     "output_type": "stream",
     "text": [
      "C:\\Users\\Alex\\anaconda3\\lib\\site-packages\\seaborn\\distributions.py:2619: FutureWarning: `distplot` is a deprecated function and will be removed in a future version. Please adapt your code to use either `displot` (a figure-level function with similar flexibility) or `histplot` (an axes-level function for histograms).\n",
      "  warnings.warn(msg, FutureWarning)\n"
     ]
    },
    {
     "data": {
      "image/png": "[encoded data removed]",
      "text/plain": [
       "<Figure size 432x288 with 1 Axes>"
      ]
     },
     "metadata": {
      "needs_background": "light"
     },
     "output_type": "display_data"
    },
    {
     "name": "stderr",
     "output_type": "stream",
     "text": [
      "C:\\Users\\Alex\\anaconda3\\lib\\site-packages\\seaborn\\distributions.py:2619: FutureWarning: `distplot` is a deprecated function and will be removed in a future version. Please adapt your code to use either `displot` (a figure-level function with similar flexibility) or `histplot` (an axes-level function for histograms).\n",
      "  warnings.warn(msg, FutureWarning)\n"
     ]
    },
    {
     "data": {
      "image/png": "[encoded data removed]",
      "text/plain": [
       "<Figure size 432x288 with 1 Axes>"
      ]
     },
     "metadata": {
      "needs_background": "light"
     },
     "output_type": "display_data"
    }
   ],
   "source": [
    "# Now I well recheck my graphs. I am only going to check what I believed stood out before.\n",
    "\n",
    "graphs_to_check = ['bedrooms', \"bathrooms\", 'sqft_living', 'view_of_waterfront', 'view', 'sqft_above', 'sqft_basement']\n",
    "\n",
    "for x in graphs_to_check:\n",
    "    sns.distplot(data_1[x])\n",
    "    plt.show()"
   ]
  },
  {
   "cell_type": "markdown",
   "id": "ac967719",
   "metadata": {},
   "source": [
    "The following still have trails, so I will now remove them individually:\n",
    "sqft_living\n",
    "sqft_above\n",
    "sqft_basement"
   ]
  },
  {
   "cell_type": "code",
   "execution_count": 28,
   "id": "e2f3e4ef",
   "metadata": {},
   "outputs": [
    {
     "name": "stderr",
     "output_type": "stream",
     "text": [
      "C:\\Users\\Alex\\AppData\\Local\\Temp/ipykernel_5992/2978430951.py:4: UserWarning: Boolean Series key will be reindexed to match DataFrame index.\n",
      "  data_1 = data_1[data['sqft_living']<upper_limit]\n"
     ]
    },
    {
     "data": {
      "text/plain": [
       "<seaborn.axisgrid.FacetGrid at 0x28173ed3a90>"
      ]
     },
     "execution_count": 28,
     "metadata": {},
     "output_type": "execute_result"
    },
    {
     "data": {
      "image/png": "[encoded data removed]",
      "text/plain": [
       "<Figure size 360x360 with 1 Axes>"
      ]
     },
     "metadata": {
      "needs_background": "light"
     },
     "output_type": "display_data"
    }
   ],
   "source": [
    "iqr = np.percentile(data['sqft_living'],75) - np.percentile(data['sqft_living'],25)\n",
    "upper_limit = np.percentile(data['sqft_living'],75) + 1.5*iqr\n",
    "lower_limit = np.percentile(data['sqft_living'],25) - 1.5*iqr\n",
    "data_1 = data_1[data['sqft_living']<upper_limit]\n",
    "\n",
    "sns.displot(data_1['sqft_living'])"
   ]
  },
  {
   "cell_type": "code",
   "execution_count": 29,
   "id": "248839ff",
   "metadata": {},
   "outputs": [
    {
     "data": {
      "text/plain": [
       "<seaborn.axisgrid.FacetGrid at 0x28173ed3f10>"
      ]
     },
     "execution_count": 29,
     "metadata": {},
     "output_type": "execute_result"
    },
    {
     "data": {
      "image/png": "[encoded data removed]",
      "text/plain": [
       "<Figure size 360x360 with 1 Axes>"
      ]
     },
     "metadata": {
      "needs_background": "light"
     },
     "output_type": "display_data"
    }
   ],
   "source": [
    "iqr = np.percentile(data_1['sqft_basement'],75) - np.percentile(data_1['sqft_basement'],25)\n",
    "upper_limit = np.percentile(data_1['sqft_basement'],75) + 1.5*iqr\n",
    "lower_limit = np.percentile(data_1['sqft_basement'],25) - 1.5*iqr\n",
    "data_1 = data_1[data_1['sqft_basement']<upper_limit]\n",
    "\n",
    "sns.displot(data_1['sqft_basement'])"
   ]
  },
  {
   "cell_type": "code",
   "execution_count": 30,
   "id": "8d9f51d3",
   "metadata": {},
   "outputs": [
    {
     "name": "stdout",
     "output_type": "stream",
     "text": [
      "Data lost: 1343 or 6.22%.\n"
     ]
    }
   ],
   "source": [
    "data_lost = o_size - data_1.shape[0]\n",
    "print(\"Data lost: \" + str(data_lost) + \" or \" + str(round(data_lost/o_size * 100,2)) + \"%.\")"
   ]
  },
  {
   "cell_type": "code",
   "execution_count": 31,
   "id": "cb39b6a2",
   "metadata": {},
   "outputs": [],
   "source": [
    "# Now we transform/scale and encode\n",
    "# I will be using standard scaling and one hot encoding\n",
    "# I will aslo be seperating our Y from our data\n",
    "\n",
    "Y = data_1['price']\n",
    "del data_1['price']\n",
    "\n",
    "from sklearn.preprocessing import StandardScaler\n",
    "from sklearn.preprocessing import OneHotEncoder\n",
    "\n",
    "X_num = data_1.select_dtypes(np.number)\n",
    "X_cat = data_1.select_dtypes(object)\n",
    "\n",
    "\n",
    "transformer = StandardScaler().fit(X_num)\n",
    "scaled_x = transformer.transform(X_num)\n",
    "\n",
    "encoder = OneHotEncoder().fit(X_cat)\n",
    "encoded = encoder.transform(X_cat).toarray()\n",
    "X = np.concatenate((scaled_x, encoded), axis=1)"
   ]
  },
  {
   "cell_type": "code",
   "execution_count": 32,
   "id": "1ba53476",
   "metadata": {},
   "outputs": [],
   "source": [
    "# I will now create my models. I will make 3 different models so that I can get the best result.\n",
    "# Alongside creating my models I will be testing them and getting scors\n",
    "from sklearn.metrics import accuracy_score\n",
    "from sklearn import linear_model\n",
    "from sklearn.metrics import r2_score\n",
    "from sklearn.model_selection import train_test_split"
   ]
  },
  {
   "cell_type": "code",
   "execution_count": 33,
   "id": "7da77855",
   "metadata": {},
   "outputs": [
    {
     "data": {
      "text/html": [
       "<div>\n",
       "<style scoped>\n",
       "    .dataframe tbody tr th:only-of-type {\n",
       "        vertical-align: middle;\n",
       "    }\n",
       "\n",
       "    .dataframe tbody tr th {\n",
       "        vertical-align: top;\n",
       "    }\n",
       "\n",
       "    .dataframe thead th {\n",
       "        text-align: right;\n",
       "    }\n",
       "</style>\n",
       "<table border=\"1\" class=\"dataframe\">\n",
       "  <thead>\n",
       "    <tr style=\"text-align: right;\">\n",
       "      <th></th>\n",
       "      <th>bedrooms</th>\n",
       "      <th>bathrooms</th>\n",
       "      <th>sqft_living</th>\n",
       "      <th>sqft_lot</th>\n",
       "      <th>floors</th>\n",
       "      <th>view_of_waterfront</th>\n",
       "      <th>view</th>\n",
       "      <th>condition</th>\n",
       "      <th>grade</th>\n",
       "      <th>sqft_above</th>\n",
       "      <th>sqft_basement</th>\n",
       "      <th>yr_built</th>\n",
       "      <th>yr_renovated</th>\n",
       "      <th>sqft_living15</th>\n",
       "      <th>sqft_lot15</th>\n",
       "      <th>price</th>\n",
       "    </tr>\n",
       "  </thead>\n",
       "  <tbody>\n",
       "    <tr>\n",
       "      <th>0</th>\n",
       "      <td>3</td>\n",
       "      <td>1.00</td>\n",
       "      <td>1180</td>\n",
       "      <td>5650</td>\n",
       "      <td>1.0</td>\n",
       "      <td>0</td>\n",
       "      <td>0</td>\n",
       "      <td>3</td>\n",
       "      <td>7</td>\n",
       "      <td>1180</td>\n",
       "      <td>0</td>\n",
       "      <td>1955</td>\n",
       "      <td>0</td>\n",
       "      <td>1340</td>\n",
       "      <td>5650</td>\n",
       "      <td>221900</td>\n",
       "    </tr>\n",
       "    <tr>\n",
       "      <th>1</th>\n",
       "      <td>3</td>\n",
       "      <td>2.25</td>\n",
       "      <td>2570</td>\n",
       "      <td>7242</td>\n",
       "      <td>2.0</td>\n",
       "      <td>0</td>\n",
       "      <td>0</td>\n",
       "      <td>3</td>\n",
       "      <td>7</td>\n",
       "      <td>2170</td>\n",
       "      <td>400</td>\n",
       "      <td>1951</td>\n",
       "      <td>1991</td>\n",
       "      <td>1690</td>\n",
       "      <td>7639</td>\n",
       "      <td>538000</td>\n",
       "    </tr>\n",
       "    <tr>\n",
       "      <th>2</th>\n",
       "      <td>2</td>\n",
       "      <td>1.00</td>\n",
       "      <td>770</td>\n",
       "      <td>10000</td>\n",
       "      <td>1.0</td>\n",
       "      <td>0</td>\n",
       "      <td>0</td>\n",
       "      <td>3</td>\n",
       "      <td>6</td>\n",
       "      <td>770</td>\n",
       "      <td>0</td>\n",
       "      <td>1933</td>\n",
       "      <td>0</td>\n",
       "      <td>2720</td>\n",
       "      <td>8062</td>\n",
       "      <td>180000</td>\n",
       "    </tr>\n",
       "    <tr>\n",
       "      <th>3</th>\n",
       "      <td>4</td>\n",
       "      <td>3.00</td>\n",
       "      <td>1960</td>\n",
       "      <td>5000</td>\n",
       "      <td>1.0</td>\n",
       "      <td>0</td>\n",
       "      <td>0</td>\n",
       "      <td>5</td>\n",
       "      <td>7</td>\n",
       "      <td>1050</td>\n",
       "      <td>910</td>\n",
       "      <td>1965</td>\n",
       "      <td>0</td>\n",
       "      <td>1360</td>\n",
       "      <td>5000</td>\n",
       "      <td>604000</td>\n",
       "    </tr>\n",
       "    <tr>\n",
       "      <th>4</th>\n",
       "      <td>3</td>\n",
       "      <td>2.00</td>\n",
       "      <td>1680</td>\n",
       "      <td>8080</td>\n",
       "      <td>1.0</td>\n",
       "      <td>0</td>\n",
       "      <td>0</td>\n",
       "      <td>3</td>\n",
       "      <td>8</td>\n",
       "      <td>1680</td>\n",
       "      <td>0</td>\n",
       "      <td>1987</td>\n",
       "      <td>0</td>\n",
       "      <td>1800</td>\n",
       "      <td>7503</td>\n",
       "      <td>510000</td>\n",
       "    </tr>\n",
       "  </tbody>\n",
       "</table>\n",
       "</div>"
      ],
      "text/plain": [
       "   bedrooms  bathrooms  sqft_living  sqft_lot  floors  view_of_waterfront  \\\n",
       "0         3       1.00         1180      5650     1.0                   0   \n",
       "1         3       2.25         2570      7242     2.0                   0   \n",
       "2         2       1.00          770     10000     1.0                   0   \n",
       "3         4       3.00         1960      5000     1.0                   0   \n",
       "4         3       2.00         1680      8080     1.0                   0   \n",
       "\n",
       "   view  condition  grade  sqft_above  sqft_basement  yr_built  yr_renovated  \\\n",
       "0     0          3      7        1180              0      1955             0   \n",
       "1     0          3      7        2170            400      1951          1991   \n",
       "2     0          3      6         770              0      1933             0   \n",
       "3     0          5      7        1050            910      1965             0   \n",
       "4     0          3      8        1680              0      1987             0   \n",
       "\n",
       "   sqft_living15  sqft_lot15   price  \n",
       "0           1340        5650  221900  \n",
       "1           1690        7639  538000  \n",
       "2           2720        8062  180000  \n",
       "3           1360        5000  604000  \n",
       "4           1800        7503  510000  "
      ]
     },
     "execution_count": 33,
     "metadata": {},
     "output_type": "execute_result"
    }
   ],
   "source": [
    "data.head()"
   ]
  },
  {
   "cell_type": "code",
   "execution_count": 34,
   "id": "ca992bfd",
   "metadata": {},
   "outputs": [
    {
     "name": "stdout",
     "output_type": "stream",
     "text": [
      "R2 score is 0.6150862995735363\n",
      "R2 score is 0.6128609204729216\n",
      "R2 score is 0.6042156756456019\n"
     ]
    }
   ],
   "source": [
    "X_train, X_test, y_train, y_test = train_test_split(X, Y, test_size=0.3, random_state=100)\n",
    "lm = linear_model.LinearRegression()\n",
    "model = lm.fit(X_train,y_train)\n",
    "predictions  = lm.predict(X_test)\n",
    "print(\"R2 score is\", r2_score(y_test, predictions))\n",
    "\n",
    "X_train, X_test, y_train, y_test = train_test_split(X, Y, test_size=0.25, random_state=100)\n",
    "lm = linear_model.LinearRegression()\n",
    "model = lm.fit(X_train,y_train)\n",
    "predictions  = lm.predict(X_test)\n",
    "print(\"R2 score is\", r2_score(y_test, predictions))\n",
    "\n",
    "X_train, X_test, y_train, y_test = train_test_split(X, Y, test_size=0.2, random_state=100)\n",
    "lm = linear_model.LinearRegression()\n",
    "model = lm.fit(X_train,y_train)\n",
    "predictions  = lm.predict(X_test)\n",
    "print(\"R2 score is\", r2_score(y_test, predictions))"
   ]
  },
  {
   "cell_type": "markdown",
   "id": "57595a09",
   "metadata": {},
   "source": [
    "# ------------------------------------------------------------------\n",
    "# With bedrooms and such data as numericals, log transformed."
   ]
  },
  {
   "cell_type": "code",
   "execution_count": 35,
   "id": "c8871ac0",
   "metadata": {},
   "outputs": [
    {
     "data": {
      "text/plain": [
       "(21597, 16)"
      ]
     },
     "execution_count": 35,
     "metadata": {},
     "output_type": "execute_result"
    }
   ],
   "source": [
    "data_2 = data\n",
    "data_2.shape"
   ]
  },
  {
   "cell_type": "code",
   "execution_count": 36,
   "id": "98af2b4c",
   "metadata": {},
   "outputs": [
    {
     "name": "stdout",
     "output_type": "stream",
     "text": [
      "(21597, 16)\n",
      "(8487, 16)\n"
     ]
    },
    {
     "name": "stderr",
     "output_type": "stream",
     "text": [
      "C:\\Users\\Alex\\AppData\\Local\\Temp/ipykernel_5992/182939509.py:11: SettingWithCopyWarning: \n",
      "A value is trying to be set on a copy of a slice from a DataFrame.\n",
      "Try using .loc[row_indexer,col_indexer] = value instead\n",
      "\n",
      "See the caveats in the documentation: https://pandas.pydata.org/pandas-docs/stable/user_guide/indexing.html#returning-a-view-versus-a-copy\n",
      "  data_2[x] = np.log(data_2[x])\n"
     ]
    }
   ],
   "source": [
    "#Here I will be using log transoformations on data that are too skewed\n",
    "import math\n",
    "\n",
    "graphs_to_check = ['sqft_living', 'sqft_above', 'sqft_basement']\n",
    "\n",
    "print(data_2.shape)\n",
    "data_2 = data_2[(data_2['sqft_living'] > 0) & (data_2['sqft_above'] > 0) & (data_2['sqft_basement']> 0)]\n",
    "print(data_2.shape)\n",
    "\n",
    "for x in graphs_to_check:\n",
    "    data_2[x] = np.log(data_2[x])\n"
   ]
  },
  {
   "cell_type": "code",
   "execution_count": 37,
   "id": "256f7c9d",
   "metadata": {},
   "outputs": [
    {
     "name": "stderr",
     "output_type": "stream",
     "text": [
      "C:\\Users\\Alex\\anaconda3\\lib\\site-packages\\seaborn\\distributions.py:2619: FutureWarning: `distplot` is a deprecated function and will be removed in a future version. Please adapt your code to use either `displot` (a figure-level function with similar flexibility) or `histplot` (an axes-level function for histograms).\n",
      "  warnings.warn(msg, FutureWarning)\n"
     ]
    },
    {
     "data": {
      "image/png": "[encoded data removed]",
      "text/plain": [
       "<Figure size 432x288 with 1 Axes>"
      ]
     },
     "metadata": {
      "needs_background": "light"
     },
     "output_type": "display_data"
    },
    {
     "name": "stderr",
     "output_type": "stream",
     "text": [
      "C:\\Users\\Alex\\anaconda3\\lib\\site-packages\\seaborn\\distributions.py:2619: FutureWarning: `distplot` is a deprecated function and will be removed in a future version. Please adapt your code to use either `displot` (a figure-level function with similar flexibility) or `histplot` (an axes-level function for histograms).\n",
      "  warnings.warn(msg, FutureWarning)\n"
     ]
    },
    {
     "data": {
      "image/png": "[encoded data removed]",
      "text/plain": [
       "<Figure size 432x288 with 1 Axes>"
      ]
     },
     "metadata": {
      "needs_background": "light"
     },
     "output_type": "display_data"
    },
    {
     "name": "stderr",
     "output_type": "stream",
     "text": [
      "C:\\Users\\Alex\\anaconda3\\lib\\site-packages\\seaborn\\distributions.py:2619: FutureWarning: `distplot` is a deprecated function and will be removed in a future version. Please adapt your code to use either `displot` (a figure-level function with similar flexibility) or `histplot` (an axes-level function for histograms).\n",
      "  warnings.warn(msg, FutureWarning)\n"
     ]
    },
    {
     "data": {
      "image/png": "[encoded data removed]",
      "text/plain": [
       "<Figure size 432x288 with 1 Axes>"
      ]
     },
     "metadata": {
      "needs_background": "light"
     },
     "output_type": "display_data"
    }
   ],
   "source": [
    "for x in graphs_to_check:\n",
    "    sns.distplot(data_2[x])\n",
    "    plt.show()"
   ]
  },
  {
   "cell_type": "code",
   "execution_count": 38,
   "id": "a79891a8",
   "metadata": {},
   "outputs": [
    {
     "name": "stdout",
     "output_type": "stream",
     "text": [
      "Data lost: 13110 or 60.7%.\n"
     ]
    }
   ],
   "source": [
    "data_lost = o_size - data_2.shape[0]\n",
    "print(\"Data lost: \" + str(data_lost) + \" or \" + str(round(data_lost/o_size * 100,2)) + \"%.\")"
   ]
  },
  {
   "cell_type": "code",
   "execution_count": 39,
   "id": "8d67b6cb",
   "metadata": {},
   "outputs": [],
   "source": [
    "# Now we transform/scale and encode\n",
    "# I will be using standard scaling and one hot encoding\n",
    "# I will aslo be seperating our Y from our data\n",
    "\n",
    "Y = data_2['price']\n",
    "del data_2['price']\n",
    "\n",
    "X_num = data_2.select_dtypes(np.number)\n",
    "X_cat = data_2.select_dtypes(object)\n",
    "\n",
    "\n",
    "transformer = StandardScaler().fit(X_num)\n",
    "scaled_x = transformer.transform(X_num)\n",
    "\n",
    "encoder = OneHotEncoder().fit(X_cat)\n",
    "encoded = encoder.transform(X_cat).toarray()\n",
    "X = np.concatenate((scaled_x, encoded), axis=1)"
   ]
  },
  {
   "cell_type": "code",
   "execution_count": 40,
   "id": "d9e1b874",
   "metadata": {},
   "outputs": [
    {
     "name": "stdout",
     "output_type": "stream",
     "text": [
      "R2 score is 0.6524266457327199\n",
      "R2 score is 0.6346130726946851\n",
      "R2 score is 0.6281358672987716\n"
     ]
    }
   ],
   "source": [
    "X_train, X_test, y_train, y_test = train_test_split(X, Y, test_size=0.3, random_state=100)\n",
    "lm = linear_model.LinearRegression()\n",
    "model = lm.fit(X_train,y_train)\n",
    "predictions  = lm.predict(X_test)\n",
    "print(\"R2 score is\", r2_score(y_test, predictions))\n",
    "\n",
    "X_train, X_test, y_train, y_test = train_test_split(X, Y, test_size=0.25, random_state=100)\n",
    "lm = linear_model.LinearRegression()\n",
    "model = lm.fit(X_train,y_train)\n",
    "predictions  = lm.predict(X_test)\n",
    "print(\"R2 score is\", r2_score(y_test, predictions))\n",
    "\n",
    "X_train, X_test, y_train, y_test = train_test_split(X, Y, test_size=0.2, random_state=100)\n",
    "lm = linear_model.LinearRegression()\n",
    "model = lm.fit(X_train,y_train)\n",
    "predictions  = lm.predict(X_test)\n",
    "print(\"R2 score is\", r2_score(y_test, predictions))"
   ]
  },
  {
   "cell_type": "code",
   "execution_count": null,
   "id": "df2e85dc",
   "metadata": {},
   "outputs": [],
   "source": []
  },
  {
   "cell_type": "markdown",
   "id": "af1cd17b",
   "metadata": {},
   "source": [
    "# ------------------------------------------------------------------\n",
    "# With bedrooms and such data as categoricals, not log transformed."
   ]
  },
  {
   "cell_type": "code",
   "execution_count": 41,
   "id": "bcc327cf",
   "metadata": {},
   "outputs": [
    {
     "data": {
      "text/plain": [
       "(21597, 16)"
      ]
     },
     "execution_count": 41,
     "metadata": {},
     "output_type": "execute_result"
    }
   ],
   "source": [
    "#In this model I will be changing Numerical columns with categorical behaviours into categoricals for the model.\n",
    "numericals_3 = data.select_dtypes(np.number)\n",
    "categoricals_3 = data.select_dtypes(object)\n",
    "data_3 = data\n",
    "data_3.shape"
   ]
  },
  {
   "cell_type": "code",
   "execution_count": 42,
   "id": "06a53813",
   "metadata": {},
   "outputs": [
    {
     "data": {
      "text/plain": [
       "Index(['bedrooms', 'bathrooms', 'sqft_living', 'sqft_lot', 'floors',\n",
       "       'view_of_waterfront', 'view', 'condition', 'grade', 'sqft_above',\n",
       "       'sqft_basement', 'yr_built', 'yr_renovated', 'sqft_living15',\n",
       "       'sqft_lot15', 'price'],\n",
       "      dtype='object')"
      ]
     },
     "execution_count": 42,
     "metadata": {},
     "output_type": "execute_result"
    }
   ],
   "source": [
    "data.columns"
   ]
  },
  {
   "cell_type": "code",
   "execution_count": 43,
   "id": "7101be39",
   "metadata": {},
   "outputs": [
    {
     "name": "stdout",
     "output_type": "stream",
     "text": [
      "Data lost: 925 or 0.04283002268833634%.\n"
     ]
    },
    {
     "name": "stderr",
     "output_type": "stream",
     "text": [
      "C:\\Users\\Alex\\AppData\\Local\\Temp/ipykernel_5992/1991743504.py:10: UserWarning: Boolean Series key will be reindexed to match DataFrame index.\n",
      "  data_3 = data_3[data['sqft_living']<upper_limit]\n"
     ]
    }
   ],
   "source": [
    "#I will first remove known outliers and then split my columns.\n",
    "iqr = np.percentile(data_3['sqft_basement'],75) - np.percentile(data_3['sqft_basement'],25)\n",
    "upper_limit = np.percentile(data_3['sqft_basement'],75) + 1.5*iqr\n",
    "lower_limit = np.percentile(data_3['sqft_basement'],25) - 1.5*iqr\n",
    "data_3 = data_3[data_3['sqft_basement']<upper_limit]\n",
    "\n",
    "iqr = np.percentile(data['sqft_living'],75) - np.percentile(data['sqft_living'],25)\n",
    "upper_limit = np.percentile(data['sqft_living'],75) + 1.5*iqr\n",
    "lower_limit = np.percentile(data['sqft_living'],25) - 1.5*iqr\n",
    "data_3 = data_3[data['sqft_living']<upper_limit]\n",
    "\n",
    "data_lost = o_size - data_3.shape[0]\n",
    "print(\"Data lost: \" + str(data_lost) + \" or \" + str(round(data_lost/o_size,2 * 100)) + \"%.\")"
   ]
  },
  {
   "cell_type": "code",
   "execution_count": 44,
   "id": "76c7471b",
   "metadata": {
    "scrolled": true
   },
   "outputs": [],
   "source": [
    "#The categories we will be putting into the categorical columns are:\n",
    "# view\n",
    "# condition\n",
    "# grade\n",
    "# view_of_water_front\n",
    "\n",
    "X_cat = data_3[['view','condition','grade','view_of_waterfront']]\n",
    "data_3 = data_3.drop(['view','condition','grade','view_of_waterfront'], axis = 1)\n",
    "X_num = data_3"
   ]
  },
  {
   "cell_type": "code",
   "execution_count": 45,
   "id": "301b01b5",
   "metadata": {},
   "outputs": [],
   "source": [
    "# Now we transform/scale and encode\n",
    "# I will be using standard scaling and one hot encoding\n",
    "# I will aslo be seperating our Y from our data\n",
    "\n",
    "Y = data_3['price']\n",
    "del data_3['price']\n",
    "\n",
    "from sklearn.preprocessing import StandardScaler\n",
    "from sklearn.preprocessing import OneHotEncoder\n",
    "\n",
    "transformer = StandardScaler().fit(X_num)\n",
    "scaled_x = transformer.transform(X_num)\n",
    "\n",
    "encoder = OneHotEncoder().fit(X_cat)\n",
    "encoded = encoder.transform(X_cat).toarray()\n",
    "X = np.concatenate((scaled_x, encoded), axis=1)"
   ]
  },
  {
   "cell_type": "code",
   "execution_count": 46,
   "id": "43e40eaa",
   "metadata": {
    "scrolled": true
   },
   "outputs": [
    {
     "name": "stdout",
     "output_type": "stream",
     "text": [
      "R2 score is 0.6065745432965577\n",
      "R2 score is 0.606646047388387\n",
      "R2 score is 0.6078664093558618\n"
     ]
    }
   ],
   "source": [
    "X_train, X_test, y_train, y_test = train_test_split(X, Y, test_size=0.3, random_state=100)\n",
    "lm = linear_model.LinearRegression()\n",
    "model = lm.fit(X_train,y_train)\n",
    "predictions  = lm.predict(X_test)\n",
    "print(\"R2 score is\", r2_score(y_test, predictions))\n",
    "\n",
    "X_train, X_test, y_train, y_test = train_test_split(X, Y, test_size=0.25, random_state=100)\n",
    "lm = linear_model.LinearRegression()\n",
    "model = lm.fit(X_train,y_train)\n",
    "predictions  = lm.predict(X_test)\n",
    "print(\"R2 score is\", r2_score(y_test, predictions))\n",
    "\n",
    "X_train, X_test, y_train, y_test = train_test_split(X, Y, test_size=0.2, random_state=100)\n",
    "lm = linear_model.LinearRegression()\n",
    "model = lm.fit(X_train,y_train)\n",
    "predictions  = lm.predict(X_test)\n",
    "print(\"R2 score is\", r2_score(y_test, predictions))"
   ]
  },
  {
   "cell_type": "markdown",
   "id": "59ea29fc",
   "metadata": {},
   "source": [
    "# ------------------------------------------------------------------\n",
    "# With bedrooms and such data as categoricals, log transformed."
   ]
  },
  {
   "cell_type": "code",
   "execution_count": 47,
   "id": "136b4b1b",
   "metadata": {},
   "outputs": [],
   "source": [
    "data_6 = data"
   ]
  },
  {
   "cell_type": "code",
   "execution_count": 48,
   "id": "c826cb92",
   "metadata": {},
   "outputs": [
    {
     "name": "stderr",
     "output_type": "stream",
     "text": [
      "C:\\Users\\Alex\\AppData\\Local\\Temp/ipykernel_5992/2602275277.py:6: SettingWithCopyWarning: \n",
      "A value is trying to be set on a copy of a slice from a DataFrame.\n",
      "Try using .loc[row_indexer,col_indexer] = value instead\n",
      "\n",
      "See the caveats in the documentation: https://pandas.pydata.org/pandas-docs/stable/user_guide/indexing.html#returning-a-view-versus-a-copy\n",
      "  data_6[x] = np.log(data_6[x])\n"
     ]
    }
   ],
   "source": [
    "graphs_to_check = ['sqft_living', 'sqft_above', 'sqft_basement']\n",
    "\n",
    "data_6 = data_6[(data_6['sqft_living'] > 0) & (data_6['sqft_above'] > 0) & (data_6['sqft_basement']> 0)]\n",
    "\n",
    "for x in graphs_to_check:\n",
    "    data_6[x] = np.log(data_6[x])"
   ]
  },
  {
   "cell_type": "code",
   "execution_count": 49,
   "id": "0ef19a9e",
   "metadata": {},
   "outputs": [
    {
     "name": "stdout",
     "output_type": "stream",
     "text": [
      "Data lost: 13110 or 60.7%.\n"
     ]
    }
   ],
   "source": [
    "data_lost = o_size - data_6.shape[0]\n",
    "print(\"Data lost: \" + str(data_lost) + \" or \" + str(round(data_lost/o_size * 100,2)) + \"%.\")"
   ]
  },
  {
   "cell_type": "code",
   "execution_count": 50,
   "id": "97c23829",
   "metadata": {},
   "outputs": [
    {
     "data": {
      "text/plain": [
       "(8487, 16)"
      ]
     },
     "execution_count": 50,
     "metadata": {},
     "output_type": "execute_result"
    }
   ],
   "source": [
    "data_6.shape"
   ]
  },
  {
   "cell_type": "code",
   "execution_count": 51,
   "id": "419e7eaa",
   "metadata": {},
   "outputs": [],
   "source": [
    "#The categories we will be putting into the categorical columns are:\n",
    "# view\n",
    "# condition\n",
    "# grade\n",
    "# view_of_water_front\n",
    "\n",
    "X_cat = data_6[['view','condition','grade','view_of_waterfront']]\n",
    "data_6 = data_6.drop(['view','condition','grade','view_of_waterfront'], axis = 1)\n",
    "X_num = data_6"
   ]
  },
  {
   "cell_type": "code",
   "execution_count": 52,
   "id": "d3a0dd61",
   "metadata": {},
   "outputs": [],
   "source": [
    "# Now we transform/scale and encode\n",
    "# I will be using standard scaling and one hot encoding\n",
    "# I will aslo be seperating our Y from our data\n",
    "\n",
    "Y = data_6['price']\n",
    "del data_6['price']\n",
    "\n",
    "transformer = StandardScaler().fit(X_num)\n",
    "scaled_x = transformer.transform(X_num)\n",
    "\n",
    "encoder = OneHotEncoder().fit(X_cat)\n",
    "encoded = encoder.transform(X_cat).toarray()\n",
    "X = np.concatenate((scaled_x, encoded), axis=1)"
   ]
  },
  {
   "cell_type": "code",
   "execution_count": 53,
   "id": "0f700107",
   "metadata": {},
   "outputs": [
    {
     "name": "stdout",
     "output_type": "stream",
     "text": [
      "R2 score is 0.7029244836079993\n",
      "R2 score is 0.6891845497168609\n",
      "R2 score is 0.6910029706014318\n"
     ]
    }
   ],
   "source": [
    "X_train, X_test, y_train, y_test = train_test_split(X, Y, test_size=0.3, random_state=100)\n",
    "lm = linear_model.LinearRegression()\n",
    "model = lm.fit(X_train,y_train)\n",
    "predictions  = lm.predict(X_test)\n",
    "print(\"R2 score is\", r2_score(y_test, predictions))\n",
    "\n",
    "X_train, X_test, y_train, y_test = train_test_split(X, Y, test_size=0.25, random_state=100)\n",
    "lm = linear_model.LinearRegression()\n",
    "model = lm.fit(X_train,y_train)\n",
    "predictions  = lm.predict(X_test)\n",
    "print(\"R2 score is\", r2_score(y_test, predictions))\n",
    "\n",
    "X_train, X_test, y_train, y_test = train_test_split(X, Y, test_size=0.2, random_state=100)\n",
    "lm = linear_model.LinearRegression()\n",
    "model = lm.fit(X_train,y_train)\n",
    "predictions  = lm.predict(X_test)\n",
    "print(\"R2 score is\", r2_score(y_test, predictions))"
   ]
  },
  {
   "cell_type": "markdown",
   "id": "f9a1a4b6",
   "metadata": {},
   "source": [
    "# ------------------------------------------------------------------\n",
    "# With bedrooms and such data as numericals, not log transformed, with location data."
   ]
  },
  {
   "cell_type": "code",
   "execution_count": 54,
   "id": "b0dc7456",
   "metadata": {},
   "outputs": [],
   "source": [
    "#We must reimport to bring back location data we had previously delted\n",
    "data = pd.read_excel(\"./data_mid_bootcamp_project_regression/regression_data.xls\")\n",
    "del data['date']\n",
    "del data['id']"
   ]
  },
  {
   "cell_type": "code",
   "execution_count": 55,
   "id": "8dca54c3",
   "metadata": {},
   "outputs": [
    {
     "data": {
      "text/plain": [
       "(21597, 19)"
      ]
     },
     "execution_count": 55,
     "metadata": {},
     "output_type": "execute_result"
    }
   ],
   "source": [
    "#In this model I will be changing Numerical columns with categorical behaviours into categoricals for the model.\n",
    "data_4 = data\n",
    "data_4.shape"
   ]
  },
  {
   "cell_type": "code",
   "execution_count": 56,
   "id": "df170ec9",
   "metadata": {},
   "outputs": [
    {
     "data": {
      "text/html": [
       "<div>\n",
       "<style scoped>\n",
       "    .dataframe tbody tr th:only-of-type {\n",
       "        vertical-align: middle;\n",
       "    }\n",
       "\n",
       "    .dataframe tbody tr th {\n",
       "        vertical-align: top;\n",
       "    }\n",
       "\n",
       "    .dataframe thead th {\n",
       "        text-align: right;\n",
       "    }\n",
       "</style>\n",
       "<table border=\"1\" class=\"dataframe\">\n",
       "  <thead>\n",
       "    <tr style=\"text-align: right;\">\n",
       "      <th></th>\n",
       "      <th>bedrooms</th>\n",
       "      <th>bathrooms</th>\n",
       "      <th>sqft_living</th>\n",
       "      <th>sqft_lot</th>\n",
       "      <th>floors</th>\n",
       "      <th>waterfront</th>\n",
       "      <th>view</th>\n",
       "      <th>condition</th>\n",
       "      <th>grade</th>\n",
       "      <th>sqft_above</th>\n",
       "      <th>sqft_basement</th>\n",
       "      <th>yr_built</th>\n",
       "      <th>yr_renovated</th>\n",
       "      <th>zipcode</th>\n",
       "      <th>lat</th>\n",
       "      <th>long</th>\n",
       "      <th>sqft_living15</th>\n",
       "      <th>sqft_lot15</th>\n",
       "      <th>price</th>\n",
       "    </tr>\n",
       "  </thead>\n",
       "  <tbody>\n",
       "    <tr>\n",
       "      <th>0</th>\n",
       "      <td>3</td>\n",
       "      <td>1.00</td>\n",
       "      <td>1180</td>\n",
       "      <td>5650</td>\n",
       "      <td>1.0</td>\n",
       "      <td>0</td>\n",
       "      <td>0</td>\n",
       "      <td>3</td>\n",
       "      <td>7</td>\n",
       "      <td>1180</td>\n",
       "      <td>0</td>\n",
       "      <td>1955</td>\n",
       "      <td>0</td>\n",
       "      <td>98178</td>\n",
       "      <td>47.5112</td>\n",
       "      <td>-122.257</td>\n",
       "      <td>1340</td>\n",
       "      <td>5650</td>\n",
       "      <td>221900</td>\n",
       "    </tr>\n",
       "    <tr>\n",
       "      <th>1</th>\n",
       "      <td>3</td>\n",
       "      <td>2.25</td>\n",
       "      <td>2570</td>\n",
       "      <td>7242</td>\n",
       "      <td>2.0</td>\n",
       "      <td>0</td>\n",
       "      <td>0</td>\n",
       "      <td>3</td>\n",
       "      <td>7</td>\n",
       "      <td>2170</td>\n",
       "      <td>400</td>\n",
       "      <td>1951</td>\n",
       "      <td>1991</td>\n",
       "      <td>98125</td>\n",
       "      <td>47.7210</td>\n",
       "      <td>-122.319</td>\n",
       "      <td>1690</td>\n",
       "      <td>7639</td>\n",
       "      <td>538000</td>\n",
       "    </tr>\n",
       "    <tr>\n",
       "      <th>2</th>\n",
       "      <td>2</td>\n",
       "      <td>1.00</td>\n",
       "      <td>770</td>\n",
       "      <td>10000</td>\n",
       "      <td>1.0</td>\n",
       "      <td>0</td>\n",
       "      <td>0</td>\n",
       "      <td>3</td>\n",
       "      <td>6</td>\n",
       "      <td>770</td>\n",
       "      <td>0</td>\n",
       "      <td>1933</td>\n",
       "      <td>0</td>\n",
       "      <td>98028</td>\n",
       "      <td>47.7379</td>\n",
       "      <td>-122.233</td>\n",
       "      <td>2720</td>\n",
       "      <td>8062</td>\n",
       "      <td>180000</td>\n",
       "    </tr>\n",
       "    <tr>\n",
       "      <th>3</th>\n",
       "      <td>4</td>\n",
       "      <td>3.00</td>\n",
       "      <td>1960</td>\n",
       "      <td>5000</td>\n",
       "      <td>1.0</td>\n",
       "      <td>0</td>\n",
       "      <td>0</td>\n",
       "      <td>5</td>\n",
       "      <td>7</td>\n",
       "      <td>1050</td>\n",
       "      <td>910</td>\n",
       "      <td>1965</td>\n",
       "      <td>0</td>\n",
       "      <td>98136</td>\n",
       "      <td>47.5208</td>\n",
       "      <td>-122.393</td>\n",
       "      <td>1360</td>\n",
       "      <td>5000</td>\n",
       "      <td>604000</td>\n",
       "    </tr>\n",
       "    <tr>\n",
       "      <th>4</th>\n",
       "      <td>3</td>\n",
       "      <td>2.00</td>\n",
       "      <td>1680</td>\n",
       "      <td>8080</td>\n",
       "      <td>1.0</td>\n",
       "      <td>0</td>\n",
       "      <td>0</td>\n",
       "      <td>3</td>\n",
       "      <td>8</td>\n",
       "      <td>1680</td>\n",
       "      <td>0</td>\n",
       "      <td>1987</td>\n",
       "      <td>0</td>\n",
       "      <td>98074</td>\n",
       "      <td>47.6168</td>\n",
       "      <td>-122.045</td>\n",
       "      <td>1800</td>\n",
       "      <td>7503</td>\n",
       "      <td>510000</td>\n",
       "    </tr>\n",
       "  </tbody>\n",
       "</table>\n",
       "</div>"
      ],
      "text/plain": [
       "   bedrooms  bathrooms  sqft_living  sqft_lot  floors  waterfront  view  \\\n",
       "0         3       1.00         1180      5650     1.0           0     0   \n",
       "1         3       2.25         2570      7242     2.0           0     0   \n",
       "2         2       1.00          770     10000     1.0           0     0   \n",
       "3         4       3.00         1960      5000     1.0           0     0   \n",
       "4         3       2.00         1680      8080     1.0           0     0   \n",
       "\n",
       "   condition  grade  sqft_above  sqft_basement  yr_built  yr_renovated  \\\n",
       "0          3      7        1180              0      1955             0   \n",
       "1          3      7        2170            400      1951          1991   \n",
       "2          3      6         770              0      1933             0   \n",
       "3          5      7        1050            910      1965             0   \n",
       "4          3      8        1680              0      1987             0   \n",
       "\n",
       "   zipcode      lat     long  sqft_living15  sqft_lot15   price  \n",
       "0    98178  47.5112 -122.257           1340        5650  221900  \n",
       "1    98125  47.7210 -122.319           1690        7639  538000  \n",
       "2    98028  47.7379 -122.233           2720        8062  180000  \n",
       "3    98136  47.5208 -122.393           1360        5000  604000  \n",
       "4    98074  47.6168 -122.045           1800        7503  510000  "
      ]
     },
     "execution_count": 56,
     "metadata": {},
     "output_type": "execute_result"
    }
   ],
   "source": [
    "# So now we have lat, long, and zipcode\n",
    "data.head()"
   ]
  },
  {
   "cell_type": "code",
   "execution_count": 57,
   "id": "8a8e8b4b",
   "metadata": {},
   "outputs": [
    {
     "name": "stdout",
     "output_type": "stream",
     "text": [
      "Data lost: 925 or 4.28%.\n"
     ]
    },
    {
     "name": "stderr",
     "output_type": "stream",
     "text": [
      "C:\\Users\\Alex\\AppData\\Local\\Temp/ipykernel_5992/827555770.py:10: UserWarning: Boolean Series key will be reindexed to match DataFrame index.\n",
      "  data_4 = data_4[data['sqft_living']<upper_limit]\n"
     ]
    }
   ],
   "source": [
    "#I will first remove known outliers and then split my columns.\n",
    "iqr = np.percentile(data_4['sqft_basement'],75) - np.percentile(data_4['sqft_basement'],25)\n",
    "upper_limit = np.percentile(data_4['sqft_basement'],75) + 1.5*iqr\n",
    "lower_limit = np.percentile(data_4['sqft_basement'],25) - 1.5*iqr\n",
    "data_4 = data_4[data_4['sqft_basement']<upper_limit]\n",
    "\n",
    "iqr = np.percentile(data['sqft_living'],75) - np.percentile(data['sqft_living'],25)\n",
    "upper_limit = np.percentile(data['sqft_living'],75) + 1.5*iqr\n",
    "lower_limit = np.percentile(data['sqft_living'],25) - 1.5*iqr\n",
    "data_4 = data_4[data['sqft_living']<upper_limit]\n",
    "\n",
    "data_lost = o_size - data_4.shape[0]\n",
    "print(\"Data lost: \" + str(data_lost) + \" or \" + str(round(data_lost/o_size * 100,2)) + \"%.\")"
   ]
  },
  {
   "cell_type": "code",
   "execution_count": 58,
   "id": "8d0d6222",
   "metadata": {},
   "outputs": [],
   "source": [
    "# Now we transform/scale and encode\n",
    "# I will be using standard scaling and one hot encoding\n",
    "# I will aslo be seperating our Y from our data\n",
    "\n",
    "Y = data_4['price']\n",
    "del data_4['price']\n",
    "\n",
    "from sklearn.preprocessing import StandardScaler\n",
    "from sklearn.preprocessing import OneHotEncoder\n",
    "\n",
    "X_num = data_4.select_dtypes(np.number)\n",
    "X_cat = data_4.select_dtypes(object)\n",
    "\n",
    "\n",
    "transformer = StandardScaler().fit(X_num)\n",
    "scaled_x = transformer.transform(X_num)\n",
    "\n",
    "encoder = OneHotEncoder().fit(X_cat)\n",
    "encoded = encoder.transform(X_cat).toarray()\n",
    "X = np.concatenate((scaled_x, encoded), axis=1)"
   ]
  },
  {
   "cell_type": "code",
   "execution_count": 59,
   "id": "7817d941",
   "metadata": {},
   "outputs": [
    {
     "name": "stdout",
     "output_type": "stream",
     "text": [
      "R2 score is 0.6723835932233915\n",
      "R2 score is 0.6644921118217786\n",
      "R2 score is 0.665419806272227\n"
     ]
    }
   ],
   "source": [
    "X_train, X_test, y_train, y_test = train_test_split(X, Y, test_size=0.3, random_state=100)\n",
    "lm = linear_model.LinearRegression()\n",
    "model = lm.fit(X_train,y_train)\n",
    "predictions  = lm.predict(X_test)\n",
    "print(\"R2 score is\", r2_score(y_test, predictions))\n",
    "\n",
    "X_train, X_test, y_train, y_test = train_test_split(X, Y, test_size=0.25, random_state=100)\n",
    "lm = linear_model.LinearRegression()\n",
    "model = lm.fit(X_train,y_train)\n",
    "predictions  = lm.predict(X_test)\n",
    "print(\"R2 score is\", r2_score(y_test, predictions))\n",
    "\n",
    "X_train, X_test, y_train, y_test = train_test_split(X, Y, test_size=0.2, random_state=100)\n",
    "lm = linear_model.LinearRegression()\n",
    "model = lm.fit(X_train,y_train)\n",
    "predictions  = lm.predict(X_test)\n",
    "print(\"R2 score is\", r2_score(y_test, predictions))"
   ]
  },
  {
   "cell_type": "markdown",
   "id": "c7fadb9a",
   "metadata": {},
   "source": [
    "# ------------------------------------------------------------------\n",
    "# With bedrooms and such data as numericals, log transformed, with location data."
   ]
  },
  {
   "cell_type": "code",
   "execution_count": 60,
   "id": "0727f844",
   "metadata": {},
   "outputs": [],
   "source": [
    "#We must reimport to bring back location data we had previously delted\n",
    "data = pd.read_excel(\"./data_mid_bootcamp_project_regression/regression_data.xls\")\n",
    "del data['date']\n",
    "del data['id']"
   ]
  },
  {
   "cell_type": "code",
   "execution_count": 61,
   "id": "a8736cd3",
   "metadata": {},
   "outputs": [],
   "source": [
    "data_7 = data"
   ]
  },
  {
   "cell_type": "code",
   "execution_count": 62,
   "id": "177b96ab",
   "metadata": {},
   "outputs": [
    {
     "name": "stderr",
     "output_type": "stream",
     "text": [
      "C:\\Users\\Alex\\AppData\\Local\\Temp/ipykernel_5992/886785972.py:6: SettingWithCopyWarning: \n",
      "A value is trying to be set on a copy of a slice from a DataFrame.\n",
      "Try using .loc[row_indexer,col_indexer] = value instead\n",
      "\n",
      "See the caveats in the documentation: https://pandas.pydata.org/pandas-docs/stable/user_guide/indexing.html#returning-a-view-versus-a-copy\n",
      "  data_7[x] = np.log(data_7[x])\n"
     ]
    }
   ],
   "source": [
    "graphs_to_check = ['sqft_living', 'sqft_above', 'sqft_basement']\n",
    "\n",
    "data_7 = data_7[(data_7['sqft_living'] > 0) & (data_7['sqft_above'] > 0) & (data_7['sqft_basement']> 0)]\n",
    "\n",
    "for x in graphs_to_check:\n",
    "    data_7[x] = np.log(data_7[x])"
   ]
  },
  {
   "cell_type": "code",
   "execution_count": 63,
   "id": "d952d1ff",
   "metadata": {},
   "outputs": [
    {
     "name": "stdout",
     "output_type": "stream",
     "text": [
      "Data lost: 13110 or 60.7%.\n"
     ]
    }
   ],
   "source": [
    "data_lost = o_size - data_7.shape[0]\n",
    "print(\"Data lost: \" + str(data_lost) + \" or \" + str(round(data_lost/o_size * 100,2)) + \"%.\")"
   ]
  },
  {
   "cell_type": "code",
   "execution_count": 64,
   "id": "2585004c",
   "metadata": {},
   "outputs": [],
   "source": [
    "# Now we transform/scale and encode\n",
    "# I will be using standard scaling and one hot encoding\n",
    "# I will aslo be seperating our Y from our data\n",
    "\n",
    "Y = data_7['price']\n",
    "del data_7['price']\n",
    "\n",
    "from sklearn.preprocessing import StandardScaler\n",
    "from sklearn.preprocessing import OneHotEncoder\n",
    "\n",
    "X_num = data_7.select_dtypes(np.number)\n",
    "X_cat = data_7.select_dtypes(object)\n",
    "\n",
    "\n",
    "transformer = StandardScaler().fit(X_num)\n",
    "scaled_x = transformer.transform(X_num)\n",
    "\n",
    "encoder = OneHotEncoder().fit(X_cat)\n",
    "encoded = encoder.transform(X_cat).toarray()\n",
    "X = np.concatenate((scaled_x, encoded), axis=1)"
   ]
  },
  {
   "cell_type": "code",
   "execution_count": 65,
   "id": "a3e91cd7",
   "metadata": {},
   "outputs": [
    {
     "name": "stdout",
     "output_type": "stream",
     "text": [
      "R2 score is 0.6831047922905517\n",
      "R2 score is 0.6671995312737808\n",
      "R2 score is 0.6604971609900059\n"
     ]
    }
   ],
   "source": [
    "X_train, X_test, y_train, y_test = train_test_split(X, Y, test_size=0.3, random_state=100)\n",
    "lm = linear_model.LinearRegression()\n",
    "model = lm.fit(X_train,y_train)\n",
    "predictions  = lm.predict(X_test)\n",
    "print(\"R2 score is\", r2_score(y_test, predictions))\n",
    "\n",
    "X_train, X_test, y_train, y_test = train_test_split(X, Y, test_size=0.25, random_state=100)\n",
    "lm = linear_model.LinearRegression()\n",
    "model = lm.fit(X_train,y_train)\n",
    "predictions  = lm.predict(X_test)\n",
    "print(\"R2 score is\", r2_score(y_test, predictions))\n",
    "\n",
    "X_train, X_test, y_train, y_test = train_test_split(X, Y, test_size=0.2, random_state=100)\n",
    "lm = linear_model.LinearRegression()\n",
    "model = lm.fit(X_train,y_train)\n",
    "predictions  = lm.predict(X_test)\n",
    "print(\"R2 score is\", r2_score(y_test, predictions))"
   ]
  },
  {
   "cell_type": "code",
   "execution_count": null,
   "id": "750f6e2b",
   "metadata": {},
   "outputs": [],
   "source": []
  },
  {
   "cell_type": "markdown",
   "id": "796d2b39",
   "metadata": {},
   "source": [
    "# ------------------------------------------------------------------\n",
    "# With bedrooms and such data as categoricals, not log transformed, with location data."
   ]
  },
  {
   "cell_type": "code",
   "execution_count": 66,
   "id": "6318e9f7",
   "metadata": {
    "scrolled": true
   },
   "outputs": [
    {
     "name": "stdout",
     "output_type": "stream",
     "text": [
      "Data lost: 925 or 4.28%.\n",
      "R2 score is 0.6839266819681805\n",
      "R2 score is 0.6783981058585534\n",
      "R2 score is 0.6792713033837878\n"
     ]
    },
    {
     "name": "stderr",
     "output_type": "stream",
     "text": [
      "C:\\Users\\Alex\\AppData\\Local\\Temp/ipykernel_5992/687280556.py:16: UserWarning: Boolean Series key will be reindexed to match DataFrame index.\n",
      "  data_11 = data_11[data['sqft_living']<upper_limit]\n"
     ]
    }
   ],
   "source": [
    "#We must reimport to bring back location data we had previously delted\n",
    "data = pd.read_excel(\"./data_mid_bootcamp_project_regression/regression_data.xls\")\n",
    "del data['date']\n",
    "del data['id']\n",
    "data_11 = data\n",
    "\n",
    "#I will first remove known outliers and then split my columns.\n",
    "iqr = np.percentile(data_11['sqft_basement'],75) - np.percentile(data_11['sqft_basement'],25)\n",
    "upper_limit = np.percentile(data_11['sqft_basement'],75) + 1.5*iqr\n",
    "lower_limit = np.percentile(data_11['sqft_basement'],25) - 1.5*iqr\n",
    "data_11 = data_11[data_11['sqft_basement']<upper_limit]\n",
    "\n",
    "iqr = np.percentile(data['sqft_living'],75) - np.percentile(data['sqft_living'],25)\n",
    "upper_limit = np.percentile(data['sqft_living'],75) + 1.5*iqr\n",
    "lower_limit = np.percentile(data['sqft_living'],25) - 1.5*iqr\n",
    "data_11 = data_11[data['sqft_living']<upper_limit]\n",
    "\n",
    "data_lost = o_size - data_11.shape[0]\n",
    "print(\"Data lost: \" + str(data_lost) + \" or \" + str(round(data_lost/o_size * 100,2)) + \"%.\")\n",
    "\n",
    "# Now we transform/scale and encode\n",
    "# I will be using standard scaling and one hot encoding\n",
    "# I will aslo be seperating our Y from our data\n",
    "\n",
    "Y = data_11['price']\n",
    "del data_11['price']\n",
    "\n",
    "from sklearn.preprocessing import StandardScaler\n",
    "from sklearn.preprocessing import OneHotEncoder\n",
    "\n",
    "X_cat = data_11[['view','condition','grade','waterfront']]\n",
    "data_10 = data_11.drop(['view','condition','grade','waterfront'], axis = 1)\n",
    "X_num = data_11\n",
    "\n",
    "\n",
    "transformer = StandardScaler().fit(X_num)\n",
    "scaled_x = transformer.transform(X_num)\n",
    "\n",
    "encoder = OneHotEncoder().fit(X_cat)\n",
    "encoded = encoder.transform(X_cat).toarray()\n",
    "X = np.concatenate((scaled_x, encoded), axis=1)\n",
    "\n",
    "X_train, X_test, y_train, y_test = train_test_split(X, Y, test_size=0.3, random_state=100)\n",
    "lm = linear_model.LinearRegression()\n",
    "model = lm.fit(X_train,y_train)\n",
    "predictions  = lm.predict(X_test)\n",
    "print(\"R2 score is\", r2_score(y_test, predictions))\n",
    "\n",
    "X_train, X_test, y_train, y_test = train_test_split(X, Y, test_size=0.25, random_state=100)\n",
    "lm = linear_model.LinearRegression()\n",
    "model = lm.fit(X_train,y_train)\n",
    "predictions  = lm.predict(X_test)\n",
    "print(\"R2 score is\", r2_score(y_test, predictions))\n",
    "\n",
    "X_train, X_test, y_train, y_test = train_test_split(X, Y, test_size=0.2, random_state=100)\n",
    "lm = linear_model.LinearRegression()\n",
    "model = lm.fit(X_train,y_train)\n",
    "predictions  = lm.predict(X_test)\n",
    "print(\"R2 score is\", r2_score(y_test, predictions))"
   ]
  },
  {
   "cell_type": "markdown",
   "id": "3d95ffd6",
   "metadata": {},
   "source": [
    "# ------------------------------------------------------------------\n",
    "# With bedrooms and such data as categoricals, log transformed, with location data."
   ]
  },
  {
   "cell_type": "code",
   "execution_count": 67,
   "id": "9011f21e",
   "metadata": {},
   "outputs": [
    {
     "name": "stdout",
     "output_type": "stream",
     "text": [
      "Data lost: 13110 or 60.7%.\n",
      "R2 score is 0.7375352924696797\n",
      "R2 score is 0.7259128413562481\n",
      "R2 score is 0.725793697373976\n"
     ]
    },
    {
     "name": "stderr",
     "output_type": "stream",
     "text": [
      "C:\\Users\\Alex\\AppData\\Local\\Temp/ipykernel_5992/1124119781.py:12: SettingWithCopyWarning: \n",
      "A value is trying to be set on a copy of a slice from a DataFrame.\n",
      "Try using .loc[row_indexer,col_indexer] = value instead\n",
      "\n",
      "See the caveats in the documentation: https://pandas.pydata.org/pandas-docs/stable/user_guide/indexing.html#returning-a-view-versus-a-copy\n",
      "  data_12[x] = np.log(data_12[x])\n"
     ]
    }
   ],
   "source": [
    "#We must reimport to bring back location data we had previously delted\n",
    "data = pd.read_excel(\"./data_mid_bootcamp_project_regression/regression_data.xls\")\n",
    "del data['date']\n",
    "del data['id']\n",
    "data_12 = data\n",
    "\n",
    "graphs_to_check = ['sqft_living', 'sqft_above', 'sqft_basement']\n",
    "\n",
    "data_12 = data_12[(data_12['sqft_living'] > 0) & (data_12['sqft_above'] > 0) & (data_12['sqft_basement']> 0)]\n",
    "\n",
    "for x in graphs_to_check:\n",
    "    data_12[x] = np.log(data_12[x])\n",
    "\n",
    "data_lost = o_size - data_12.shape[0]\n",
    "print(\"Data lost: \" + str(data_lost) + \" or \" + str(round(data_lost/o_size * 100,2)) + \"%.\")\n",
    "\n",
    "# Now we transform/scale and encode\n",
    "# I will be using standard scaling and one hot encoding\n",
    "# I will aslo be seperating our Y from our data\n",
    "\n",
    "Y = data_12['price']\n",
    "del data_12['price']\n",
    "\n",
    "from sklearn.preprocessing import StandardScaler\n",
    "from sklearn.preprocessing import OneHotEncoder\n",
    "\n",
    "X_cat = data_12[['view','condition','grade','waterfront']]\n",
    "data_10 = data_12.drop(['view','condition','grade','waterfront'], axis = 1)\n",
    "X_num = data_12\n",
    "\n",
    "\n",
    "transformer = StandardScaler().fit(X_num)\n",
    "scaled_x = transformer.transform(X_num)\n",
    "\n",
    "encoder = OneHotEncoder().fit(X_cat)\n",
    "encoded = encoder.transform(X_cat).toarray()\n",
    "X = np.concatenate((scaled_x, encoded), axis=1)\n",
    "\n",
    "X_train, X_test, y_train, y_test = train_test_split(X, Y, test_size=0.3, random_state=100)\n",
    "lm = linear_model.LinearRegression()\n",
    "model = lm.fit(X_train,y_train)\n",
    "predictions  = lm.predict(X_test)\n",
    "print(\"R2 score is\", r2_score(y_test, predictions))\n",
    "\n",
    "X_train, X_test, y_train, y_test = train_test_split(X, Y, test_size=0.25, random_state=100)\n",
    "lm = linear_model.LinearRegression()\n",
    "model = lm.fit(X_train,y_train)\n",
    "predictions  = lm.predict(X_test)\n",
    "print(\"R2 score is\", r2_score(y_test, predictions))\n",
    "\n",
    "X_train, X_test, y_train, y_test = train_test_split(X, Y, test_size=0.2, random_state=100)\n",
    "lm = linear_model.LinearRegression()\n",
    "model = lm.fit(X_train,y_train)\n",
    "predictions  = lm.predict(X_test)\n",
    "print(\"R2 score is\", r2_score(y_test, predictions))"
   ]
  },
  {
   "cell_type": "markdown",
   "id": "9e9bd790",
   "metadata": {},
   "source": [
    "# ------------------------------------------------------------------\n",
    "# With bedrooms and such data as numericals, not log transformed, with Feature Extraction"
   ]
  },
  {
   "cell_type": "code",
   "execution_count": 68,
   "id": "a6d3a547",
   "metadata": {},
   "outputs": [],
   "source": [
    "data = pd.read_excel(\"./data_mid_bootcamp_project_regression/regression_data.xls\")\n",
    "del data['date']\n",
    "del data['id']\n",
    "data_5 = data\n",
    "del data_5['lat']\n",
    "del data_5['long']\n",
    "del data_5['zipcode']"
   ]
  },
  {
   "cell_type": "code",
   "execution_count": 69,
   "id": "a807b1be",
   "metadata": {},
   "outputs": [
    {
     "data": {
      "text/plain": [
       "Index(['bedrooms', 'bathrooms', 'sqft_living', 'sqft_lot', 'floors',\n",
       "       'waterfront', 'view', 'condition', 'grade', 'sqft_above',\n",
       "       'sqft_basement', 'yr_built', 'yr_renovated', 'sqft_living15',\n",
       "       'sqft_lot15', 'price'],\n",
       "      dtype='object')"
      ]
     },
     "execution_count": 69,
     "metadata": {},
     "output_type": "execute_result"
    }
   ],
   "source": [
    "data_5.columns"
   ]
  },
  {
   "cell_type": "code",
   "execution_count": 70,
   "id": "89b61791",
   "metadata": {},
   "outputs": [],
   "source": [
    "def clean_columns(column, data_in):\n",
    "    out = []\n",
    "    if column == \"waterfront\":\n",
    "        for x in data_in:\n",
    "            if x == 0:\n",
    "                out.append(\"False\")\n",
    "            else:\n",
    "                out.append(\"True\")\n",
    "    elif column == \"yr_built\":\n",
    "        for x in data_in:\n",
    "            out.append(2015  - x)\n",
    "    return out\n",
    "\n",
    "data_5['waterfront'] = clean_columns(\"waterfront\", data_5[\"waterfront\"])\n",
    "data_5['years_old'] = clean_columns(\"yr_built\", data_5[\"yr_built\"])\n",
    "del data_5['yr_built']"
   ]
  },
  {
   "cell_type": "code",
   "execution_count": 71,
   "id": "1a2c181b",
   "metadata": {},
   "outputs": [
    {
     "name": "stdout",
     "output_type": "stream",
     "text": [
      "Data lost: 925 or 4.28%.\n",
      "R2 score is 0.6011152904560916\n",
      "R2 score is 0.5948540394383615\n",
      "R2 score is 0.5950882195964431\n"
     ]
    },
    {
     "name": "stderr",
     "output_type": "stream",
     "text": [
      "C:\\Users\\Alex\\AppData\\Local\\Temp/ipykernel_5992/543677958.py:10: UserWarning: Boolean Series key will be reindexed to match DataFrame index.\n",
      "  data_5 = data_5[data['sqft_living']<upper_limit]\n"
     ]
    }
   ],
   "source": [
    "#I will first remove known outliers and then split my columns.\n",
    "iqr = np.percentile(data_5['sqft_basement'],75) - np.percentile(data_5['sqft_basement'],25)\n",
    "upper_limit = np.percentile(data_5['sqft_basement'],75) + 1.5*iqr\n",
    "lower_limit = np.percentile(data_5['sqft_basement'],25) - 1.5*iqr\n",
    "data_5 = data_5[data_5['sqft_basement']<upper_limit]\n",
    "\n",
    "iqr = np.percentile(data['sqft_living'],75) - np.percentile(data['sqft_living'],25)\n",
    "upper_limit = np.percentile(data['sqft_living'],75) + 1.5*iqr\n",
    "lower_limit = np.percentile(data['sqft_living'],25) - 1.5*iqr\n",
    "data_5 = data_5[data['sqft_living']<upper_limit]\n",
    "\n",
    "data_lost = o_size - data_5.shape[0]\n",
    "print(\"Data lost: \" + str(data_lost) + \" or \" + str(round(data_lost/o_size * 100,2)) + \"%.\")\n",
    "\n",
    "# Now we transform/scale and encode\n",
    "# I will be using standard scaling and one hot encoding\n",
    "# I will aslo be seperating our Y from our data\n",
    "\n",
    "Y = data_5['price']\n",
    "del data_5['price']\n",
    "\n",
    "from sklearn.preprocessing import StandardScaler\n",
    "from sklearn.preprocessing import OneHotEncoder\n",
    "\n",
    "X_num = data_5.select_dtypes(np.number)\n",
    "X_cat = data_5.select_dtypes(object)\n",
    "\n",
    "\n",
    "transformer = StandardScaler().fit(X_num)\n",
    "scaled_x = transformer.transform(X_num)\n",
    "\n",
    "encoder = OneHotEncoder().fit(X_cat)\n",
    "encoded = encoder.transform(X_cat).toarray()\n",
    "X = np.concatenate((scaled_x, encoded), axis=1)\n",
    "\n",
    "X_train, X_test, y_train, y_test = train_test_split(X, Y, test_size=0.3, random_state=100)\n",
    "lm = linear_model.LinearRegression()\n",
    "model = lm.fit(X_train,y_train)\n",
    "predictions  = lm.predict(X_test)\n",
    "print(\"R2 score is\", r2_score(y_test, predictions))\n",
    "\n",
    "X_train, X_test, y_train, y_test = train_test_split(X, Y, test_size=0.25, random_state=100)\n",
    "lm = linear_model.LinearRegression()\n",
    "model = lm.fit(X_train,y_train)\n",
    "predictions  = lm.predict(X_test)\n",
    "print(\"R2 score is\", r2_score(y_test, predictions))\n",
    "\n",
    "X_train, X_test, y_train, y_test = train_test_split(X, Y, test_size=0.2, random_state=100)\n",
    "lm = linear_model.LinearRegression()\n",
    "model = lm.fit(X_train,y_train)\n",
    "predictions  = lm.predict(X_test)\n",
    "print(\"R2 score is\", r2_score(y_test, predictions))"
   ]
  },
  {
   "cell_type": "markdown",
   "id": "01322186",
   "metadata": {},
   "source": [
    "# ------------------------------------------------------------------\n",
    "# With bedrooms and such data as numericals, log transformed, with Feature Extraction"
   ]
  },
  {
   "cell_type": "code",
   "execution_count": 72,
   "id": "c19d17ad",
   "metadata": {},
   "outputs": [],
   "source": [
    "data = pd.read_excel(\"./data_mid_bootcamp_project_regression/regression_data.xls\")\n",
    "del data['date']\n",
    "del data['id']\n",
    "data_8 = data"
   ]
  },
  {
   "cell_type": "code",
   "execution_count": 73,
   "id": "54f689b1",
   "metadata": {},
   "outputs": [
    {
     "data": {
      "text/html": [
       "<div>\n",
       "<style scoped>\n",
       "    .dataframe tbody tr th:only-of-type {\n",
       "        vertical-align: middle;\n",
       "    }\n",
       "\n",
       "    .dataframe tbody tr th {\n",
       "        vertical-align: top;\n",
       "    }\n",
       "\n",
       "    .dataframe thead th {\n",
       "        text-align: right;\n",
       "    }\n",
       "</style>\n",
       "<table border=\"1\" class=\"dataframe\">\n",
       "  <thead>\n",
       "    <tr style=\"text-align: right;\">\n",
       "      <th></th>\n",
       "      <th>bedrooms</th>\n",
       "      <th>bathrooms</th>\n",
       "      <th>sqft_living</th>\n",
       "      <th>sqft_lot</th>\n",
       "      <th>floors</th>\n",
       "      <th>waterfront</th>\n",
       "      <th>view</th>\n",
       "      <th>condition</th>\n",
       "      <th>grade</th>\n",
       "      <th>sqft_above</th>\n",
       "      <th>sqft_basement</th>\n",
       "      <th>yr_built</th>\n",
       "      <th>yr_renovated</th>\n",
       "      <th>zipcode</th>\n",
       "      <th>lat</th>\n",
       "      <th>long</th>\n",
       "      <th>sqft_living15</th>\n",
       "      <th>sqft_lot15</th>\n",
       "      <th>price</th>\n",
       "    </tr>\n",
       "  </thead>\n",
       "  <tbody>\n",
       "    <tr>\n",
       "      <th>0</th>\n",
       "      <td>3</td>\n",
       "      <td>1.00</td>\n",
       "      <td>1180</td>\n",
       "      <td>5650</td>\n",
       "      <td>1.0</td>\n",
       "      <td>0</td>\n",
       "      <td>0</td>\n",
       "      <td>3</td>\n",
       "      <td>7</td>\n",
       "      <td>1180</td>\n",
       "      <td>0</td>\n",
       "      <td>1955</td>\n",
       "      <td>0</td>\n",
       "      <td>98178</td>\n",
       "      <td>47.5112</td>\n",
       "      <td>-122.257</td>\n",
       "      <td>1340</td>\n",
       "      <td>5650</td>\n",
       "      <td>221900</td>\n",
       "    </tr>\n",
       "    <tr>\n",
       "      <th>1</th>\n",
       "      <td>3</td>\n",
       "      <td>2.25</td>\n",
       "      <td>2570</td>\n",
       "      <td>7242</td>\n",
       "      <td>2.0</td>\n",
       "      <td>0</td>\n",
       "      <td>0</td>\n",
       "      <td>3</td>\n",
       "      <td>7</td>\n",
       "      <td>2170</td>\n",
       "      <td>400</td>\n",
       "      <td>1951</td>\n",
       "      <td>1991</td>\n",
       "      <td>98125</td>\n",
       "      <td>47.7210</td>\n",
       "      <td>-122.319</td>\n",
       "      <td>1690</td>\n",
       "      <td>7639</td>\n",
       "      <td>538000</td>\n",
       "    </tr>\n",
       "    <tr>\n",
       "      <th>2</th>\n",
       "      <td>2</td>\n",
       "      <td>1.00</td>\n",
       "      <td>770</td>\n",
       "      <td>10000</td>\n",
       "      <td>1.0</td>\n",
       "      <td>0</td>\n",
       "      <td>0</td>\n",
       "      <td>3</td>\n",
       "      <td>6</td>\n",
       "      <td>770</td>\n",
       "      <td>0</td>\n",
       "      <td>1933</td>\n",
       "      <td>0</td>\n",
       "      <td>98028</td>\n",
       "      <td>47.7379</td>\n",
       "      <td>-122.233</td>\n",
       "      <td>2720</td>\n",
       "      <td>8062</td>\n",
       "      <td>180000</td>\n",
       "    </tr>\n",
       "    <tr>\n",
       "      <th>3</th>\n",
       "      <td>4</td>\n",
       "      <td>3.00</td>\n",
       "      <td>1960</td>\n",
       "      <td>5000</td>\n",
       "      <td>1.0</td>\n",
       "      <td>0</td>\n",
       "      <td>0</td>\n",
       "      <td>5</td>\n",
       "      <td>7</td>\n",
       "      <td>1050</td>\n",
       "      <td>910</td>\n",
       "      <td>1965</td>\n",
       "      <td>0</td>\n",
       "      <td>98136</td>\n",
       "      <td>47.5208</td>\n",
       "      <td>-122.393</td>\n",
       "      <td>1360</td>\n",
       "      <td>5000</td>\n",
       "      <td>604000</td>\n",
       "    </tr>\n",
       "    <tr>\n",
       "      <th>4</th>\n",
       "      <td>3</td>\n",
       "      <td>2.00</td>\n",
       "      <td>1680</td>\n",
       "      <td>8080</td>\n",
       "      <td>1.0</td>\n",
       "      <td>0</td>\n",
       "      <td>0</td>\n",
       "      <td>3</td>\n",
       "      <td>8</td>\n",
       "      <td>1680</td>\n",
       "      <td>0</td>\n",
       "      <td>1987</td>\n",
       "      <td>0</td>\n",
       "      <td>98074</td>\n",
       "      <td>47.6168</td>\n",
       "      <td>-122.045</td>\n",
       "      <td>1800</td>\n",
       "      <td>7503</td>\n",
       "      <td>510000</td>\n",
       "    </tr>\n",
       "  </tbody>\n",
       "</table>\n",
       "</div>"
      ],
      "text/plain": [
       "   bedrooms  bathrooms  sqft_living  sqft_lot  floors  waterfront  view  \\\n",
       "0         3       1.00         1180      5650     1.0           0     0   \n",
       "1         3       2.25         2570      7242     2.0           0     0   \n",
       "2         2       1.00          770     10000     1.0           0     0   \n",
       "3         4       3.00         1960      5000     1.0           0     0   \n",
       "4         3       2.00         1680      8080     1.0           0     0   \n",
       "\n",
       "   condition  grade  sqft_above  sqft_basement  yr_built  yr_renovated  \\\n",
       "0          3      7        1180              0      1955             0   \n",
       "1          3      7        2170            400      1951          1991   \n",
       "2          3      6         770              0      1933             0   \n",
       "3          5      7        1050            910      1965             0   \n",
       "4          3      8        1680              0      1987             0   \n",
       "\n",
       "   zipcode      lat     long  sqft_living15  sqft_lot15   price  \n",
       "0    98178  47.5112 -122.257           1340        5650  221900  \n",
       "1    98125  47.7210 -122.319           1690        7639  538000  \n",
       "2    98028  47.7379 -122.233           2720        8062  180000  \n",
       "3    98136  47.5208 -122.393           1360        5000  604000  \n",
       "4    98074  47.6168 -122.045           1800        7503  510000  "
      ]
     },
     "execution_count": 73,
     "metadata": {},
     "output_type": "execute_result"
    }
   ],
   "source": [
    "data.head()"
   ]
  },
  {
   "cell_type": "code",
   "execution_count": 74,
   "id": "a58315f4",
   "metadata": {},
   "outputs": [],
   "source": [
    "def clean_columns(column, data_in):\n",
    "    out = []\n",
    "    if column == \"view_of_waterfront\":\n",
    "        for x in data_in:\n",
    "            if x == 0:\n",
    "                out.append(\"False\")\n",
    "            else:\n",
    "                out.append(\"True\")\n",
    "    elif column == \"yr_built\":\n",
    "        for x in data_in:\n",
    "            out.append(2015  - x)\n",
    "    return out\n",
    "\n",
    "data_8['waterfront'] = clean_columns(\"view_of_waterfront\", data_8[\"waterfront\"])\n",
    "data_8['years_old'] = clean_columns(\"yr_built\", data_8[\"yr_built\"])\n",
    "del data_8['yr_built']"
   ]
  },
  {
   "cell_type": "code",
   "execution_count": 75,
   "id": "eb391dc5",
   "metadata": {},
   "outputs": [
    {
     "name": "stdout",
     "output_type": "stream",
     "text": [
      "Data lost: 13110 or 60.7%.\n",
      "R2 score is 0.6831047922905518\n",
      "R2 score is 0.667199531273781\n",
      "R2 score is 0.660497160990006\n"
     ]
    },
    {
     "name": "stderr",
     "output_type": "stream",
     "text": [
      "C:\\Users\\Alex\\AppData\\Local\\Temp/ipykernel_5992/2387814960.py:6: SettingWithCopyWarning: \n",
      "A value is trying to be set on a copy of a slice from a DataFrame.\n",
      "Try using .loc[row_indexer,col_indexer] = value instead\n",
      "\n",
      "See the caveats in the documentation: https://pandas.pydata.org/pandas-docs/stable/user_guide/indexing.html#returning-a-view-versus-a-copy\n",
      "  data_8[x] = np.log(data_8[x])\n"
     ]
    }
   ],
   "source": [
    "graphs_to_check = ['sqft_living', 'sqft_above', 'sqft_basement']\n",
    "\n",
    "data_8 = data_8[(data_8['sqft_living'] > 0) & (data_8['sqft_above'] > 0) & (data_8['sqft_basement']> 0)]\n",
    "\n",
    "for x in graphs_to_check:\n",
    "    data_8[x] = np.log(data_8[x])\n",
    "\n",
    "data_lost = o_size - data_8.shape[0]\n",
    "print(\"Data lost: \" + str(data_lost) + \" or \" + str(round(data_lost/o_size * 100,2)) + \"%.\")\n",
    "\n",
    "# Now we transform/scale and encode\n",
    "# I will be using standard scaling and one hot encoding\n",
    "# I will aslo be seperating our Y from our data\n",
    "\n",
    "Y = data_8['price']\n",
    "del data_8['price']\n",
    "\n",
    "from sklearn.preprocessing import StandardScaler\n",
    "from sklearn.preprocessing import OneHotEncoder\n",
    "\n",
    "X_num = data_8.select_dtypes(np.number)\n",
    "X_cat = data_8.select_dtypes(object)\n",
    "\n",
    "\n",
    "transformer = StandardScaler().fit(X_num)\n",
    "scaled_x = transformer.transform(X_num)\n",
    "\n",
    "encoder = OneHotEncoder().fit(X_cat)\n",
    "encoded = encoder.transform(X_cat).toarray()\n",
    "X = np.concatenate((scaled_x, encoded), axis=1)\n",
    "\n",
    "X_train, X_test, y_train, y_test = train_test_split(X, Y, test_size=0.3, random_state=100)\n",
    "lm = linear_model.LinearRegression()\n",
    "model = lm.fit(X_train,y_train)\n",
    "predictions  = lm.predict(X_test)\n",
    "print(\"R2 score is\", r2_score(y_test, predictions))\n",
    "\n",
    "X_train, X_test, y_train, y_test = train_test_split(X, Y, test_size=0.25, random_state=100)\n",
    "lm = linear_model.LinearRegression()\n",
    "model = lm.fit(X_train,y_train)\n",
    "predictions  = lm.predict(X_test)\n",
    "print(\"R2 score is\", r2_score(y_test, predictions))\n",
    "\n",
    "X_train, X_test, y_train, y_test = train_test_split(X, Y, test_size=0.2, random_state=100)\n",
    "lm = linear_model.LinearRegression()\n",
    "model = lm.fit(X_train,y_train)\n",
    "predictions  = lm.predict(X_test)\n",
    "print(\"R2 score is\", r2_score(y_test, predictions))"
   ]
  },
  {
   "cell_type": "markdown",
   "id": "54bcf257",
   "metadata": {},
   "source": [
    "# ------------------------------------------------------------------\n",
    "# With bedrooms and such data as categoricals, without log transformed, with Feature Extraction"
   ]
  },
  {
   "cell_type": "code",
   "execution_count": 76,
   "id": "bc53680d",
   "metadata": {},
   "outputs": [],
   "source": [
    "data = pd.read_excel(\"./data_mid_bootcamp_project_regression/regression_data.xls\")\n",
    "del data['date']\n",
    "del data['id']\n",
    "data_10 = data"
   ]
  },
  {
   "cell_type": "code",
   "execution_count": 77,
   "id": "580c5e49",
   "metadata": {},
   "outputs": [],
   "source": [
    "def clean_columns(column, data_in):\n",
    "    out = []\n",
    "    if column == \"waterfront\":\n",
    "        for x in data_in:\n",
    "            if x == 0:\n",
    "                out.append(\"False\")\n",
    "            else:\n",
    "                out.append(\"True\")\n",
    "    elif column == \"yr_built\":\n",
    "        for x in data_in:\n",
    "            out.append(2015  - x)\n",
    "    return out\n",
    "\n",
    "data_10['waterfront'] = clean_columns(\"waterfront\", data_10[\"waterfront\"])\n",
    "data_10['years_old'] = clean_columns(\"yr_built\", data_10[\"yr_built\"])\n",
    "del data_10['yr_built']"
   ]
  },
  {
   "cell_type": "code",
   "execution_count": 78,
   "id": "61c81cd2",
   "metadata": {
    "scrolled": true
   },
   "outputs": [
    {
     "name": "stdout",
     "output_type": "stream",
     "text": [
      "Data lost: 925 or 4.28%.\n",
      "R2 score is 0.6839279677514031\n",
      "R2 score is 0.678448309983388\n",
      "R2 score is 0.6793016408364445\n"
     ]
    },
    {
     "name": "stderr",
     "output_type": "stream",
     "text": [
      "C:\\Users\\Alex\\AppData\\Local\\Temp/ipykernel_5992/822509871.py:10: UserWarning: Boolean Series key will be reindexed to match DataFrame index.\n",
      "  data_10 = data_10[data['sqft_living']<upper_limit]\n"
     ]
    }
   ],
   "source": [
    "#I will first remove known outliers and then split my columns.\n",
    "iqr = np.percentile(data_10['sqft_basement'],75) - np.percentile(data_10['sqft_basement'],25)\n",
    "upper_limit = np.percentile(data_10['sqft_basement'],75) + 1.5*iqr\n",
    "lower_limit = np.percentile(data_10['sqft_basement'],25) - 1.5*iqr\n",
    "data_10 = data_10[data_10['sqft_basement']<upper_limit]\n",
    "\n",
    "iqr = np.percentile(data['sqft_living'],75) - np.percentile(data['sqft_living'],25)\n",
    "upper_limit = np.percentile(data['sqft_living'],75) + 1.5*iqr\n",
    "lower_limit = np.percentile(data['sqft_living'],25) - 1.5*iqr\n",
    "data_10 = data_10[data['sqft_living']<upper_limit]\n",
    "\n",
    "\n",
    "data_lost = o_size - data_10.shape[0]\n",
    "print(\"Data lost: \" + str(data_lost) + \" or \" + str(round(data_lost/o_size * 100,2)) + \"%.\")\n",
    "\n",
    "# Now we transform/scale and encode\n",
    "# I will be using standard scaling and one hot encoding\n",
    "# I will aslo be seperating our Y from our data\n",
    "\n",
    "Y = data_10['price']\n",
    "del data_10['price']\n",
    "\n",
    "from sklearn.preprocessing import StandardScaler\n",
    "from sklearn.preprocessing import OneHotEncoder\n",
    "\n",
    "#The categories we will be putting into the categorical columns are:\n",
    "# view\n",
    "# condition\n",
    "# grade\n",
    "# view_of_water_front\n",
    "\n",
    "X_cat = data_10[['view','condition','grade','waterfront']]\n",
    "data_10 = data_10.drop(['view','condition','grade','waterfront'], axis = 1)\n",
    "X_num = data_10\n",
    "\n",
    "\n",
    "transformer = StandardScaler().fit(X_num)\n",
    "scaled_x = transformer.transform(X_num)\n",
    "\n",
    "encoder = OneHotEncoder().fit(X_cat)\n",
    "encoded = encoder.transform(X_cat).toarray()\n",
    "X = np.concatenate((scaled_x, encoded), axis=1)\n",
    "\n",
    "X_train, X_test, y_train, y_test = train_test_split(X, Y, test_size=0.3, random_state=100)\n",
    "lm = linear_model.LinearRegression()\n",
    "model = lm.fit(X_train,y_train)\n",
    "predictions  = lm.predict(X_test)\n",
    "print(\"R2 score is\", r2_score(y_test, predictions))\n",
    "\n",
    "X_train, X_test, y_train, y_test = train_test_split(X, Y, test_size=0.25, random_state=100)\n",
    "lm = linear_model.LinearRegression()\n",
    "model = lm.fit(X_train,y_train)\n",
    "predictions  = lm.predict(X_test)\n",
    "print(\"R2 score is\", r2_score(y_test, predictions))\n",
    "\n",
    "X_train, X_test, y_train, y_test = train_test_split(X, Y, test_size=0.2, random_state=100)\n",
    "lm = linear_model.LinearRegression()\n",
    "model = lm.fit(X_train,y_train)\n",
    "predictions  = lm.predict(X_test)\n",
    "print(\"R2 score is\", r2_score(y_test, predictions))"
   ]
  },
  {
   "cell_type": "code",
   "execution_count": null,
   "id": "8d82708d",
   "metadata": {},
   "outputs": [],
   "source": []
  },
  {
   "cell_type": "code",
   "execution_count": null,
   "id": "1a25273a",
   "metadata": {},
   "outputs": [],
   "source": []
  },
  {
   "cell_type": "markdown",
   "id": "9f4209e1",
   "metadata": {},
   "source": [
    "# ------------------------------------------------------------------\n",
    "# With bedrooms and such data as categoricals, log transformed, with Feature Extraction"
   ]
  },
  {
   "cell_type": "code",
   "execution_count": 79,
   "id": "b2c629cd",
   "metadata": {},
   "outputs": [],
   "source": [
    "data = pd.read_excel(\"./data_mid_bootcamp_project_regression/regression_data.xls\")\n",
    "del data['date']\n",
    "del data['id']\n",
    "data_9 = data"
   ]
  },
  {
   "cell_type": "code",
   "execution_count": 80,
   "id": "5ce27e8d",
   "metadata": {},
   "outputs": [],
   "source": [
    "def clean_columns(column, data_in):\n",
    "    out = []\n",
    "    if column == \"waterfront\":\n",
    "        for x in data_in:\n",
    "            if x == 0:\n",
    "                out.append(\"False\")\n",
    "            else:\n",
    "                out.append(\"True\")\n",
    "    elif column == \"yr_built\":\n",
    "        for x in data_in:\n",
    "            out.append(2015  - x)\n",
    "    return out\n",
    "\n",
    "data_9['waterfront'] = clean_columns(\"waterfront\", data_9[\"waterfront\"])\n",
    "data_9['years_old'] = clean_columns(\"yr_built\", data_9[\"yr_built\"])\n",
    "del data_9['yr_built']"
   ]
  },
  {
   "cell_type": "code",
   "execution_count": 81,
   "id": "fc853eda",
   "metadata": {},
   "outputs": [
    {
     "name": "stdout",
     "output_type": "stream",
     "text": [
      "Data lost: 13110 or 60.7%.\n",
      "R2 score is 0.7376229616996998\n",
      "R2 score is 0.7259019216984328\n",
      "R2 score is 0.7282073527048576\n"
     ]
    },
    {
     "name": "stderr",
     "output_type": "stream",
     "text": [
      "C:\\Users\\Alex\\AppData\\Local\\Temp/ipykernel_5992/2053889954.py:6: SettingWithCopyWarning: \n",
      "A value is trying to be set on a copy of a slice from a DataFrame.\n",
      "Try using .loc[row_indexer,col_indexer] = value instead\n",
      "\n",
      "See the caveats in the documentation: https://pandas.pydata.org/pandas-docs/stable/user_guide/indexing.html#returning-a-view-versus-a-copy\n",
      "  data_9[x] = np.log(data_9[x])\n"
     ]
    }
   ],
   "source": [
    "graphs_to_check = ['sqft_living', 'sqft_above', 'sqft_basement']\n",
    "\n",
    "data_9 = data_9[(data_9['sqft_living'] > 0) & (data_9['sqft_above'] > 0) & (data_9['sqft_basement']> 0)]\n",
    "\n",
    "for x in graphs_to_check:\n",
    "    data_9[x] = np.log(data_9[x])\n",
    "\n",
    "data_lost = o_size - data_9.shape[0]\n",
    "print(\"Data lost: \" + str(data_lost) + \" or \" + str(round(data_lost/o_size * 100,2)) + \"%.\")\n",
    "\n",
    "# Now we transform/scale and encode\n",
    "# I will be using standard scaling and one hot encoding\n",
    "# I will aslo be seperating our Y from our data\n",
    "\n",
    "Y = data_9['price']\n",
    "del data_9['price']\n",
    "\n",
    "from sklearn.preprocessing import StandardScaler\n",
    "from sklearn.preprocessing import OneHotEncoder\n",
    "\n",
    "#The categories we will be putting into the categorical columns are:\n",
    "# view\n",
    "# condition\n",
    "# grade\n",
    "# view_of_water_front\n",
    "\n",
    "X_cat = data_9[['view','condition','grade','waterfront']]\n",
    "data_9 = data_9.drop(['view','condition','grade','waterfront'], axis = 1)\n",
    "X_num = data_9\n",
    "\n",
    "\n",
    "transformer = StandardScaler().fit(X_num)\n",
    "scaled_x = transformer.transform(X_num)\n",
    "\n",
    "encoder = OneHotEncoder().fit(X_cat)\n",
    "encoded = encoder.transform(X_cat).toarray()\n",
    "X = np.concatenate((scaled_x, encoded), axis=1)\n",
    "\n",
    "X_train, X_test, y_train, y_test = train_test_split(X, Y, test_size=0.3, random_state=100)\n",
    "lm = linear_model.LinearRegression()\n",
    "model = lm.fit(X_train,y_train)\n",
    "predictions  = lm.predict(X_test)\n",
    "print(\"R2 score is\", r2_score(y_test, predictions))\n",
    "\n",
    "X_train, X_test, y_train, y_test = train_test_split(X, Y, test_size=0.25, random_state=100)\n",
    "lm = linear_model.LinearRegression()\n",
    "model = lm.fit(X_train,y_train)\n",
    "predictions  = lm.predict(X_test)\n",
    "print(\"R2 score is\", r2_score(y_test, predictions))\n",
    "\n",
    "X_train, X_test, y_train, y_test = train_test_split(X, Y, test_size=0.2, random_state=100)\n",
    "lm = linear_model.LinearRegression()\n",
    "model = lm.fit(X_train,y_train)\n",
    "predictions  = lm.predict(X_test)\n",
    "print(\"R2 score is\", r2_score(y_test, predictions))"
   ]
  },
  {
   "cell_type": "markdown",
   "id": "b17fef64",
   "metadata": {},
   "source": [
    "# ------------------------------------------------------------------\n",
    "# With bedrooms and such data as categoricals, log transformed, with Feature Extraction and Location Features"
   ]
  },
  {
   "cell_type": "code",
   "execution_count": 82,
   "id": "f01e17fd",
   "metadata": {},
   "outputs": [
    {
     "name": "stdout",
     "output_type": "stream",
     "text": [
      "Data lost: 13110 or 60.7%.\n",
      "R2 score is 0.7375187866893791\n",
      "R2 score is 0.7259457315499565\n",
      "R2 score is 0.7256931148959558\n"
     ]
    },
    {
     "name": "stderr",
     "output_type": "stream",
     "text": [
      "C:\\Users\\Alex\\AppData\\Local\\Temp/ipykernel_5992/521765234.py:12: SettingWithCopyWarning: \n",
      "A value is trying to be set on a copy of a slice from a DataFrame.\n",
      "Try using .loc[row_indexer,col_indexer] = value instead\n",
      "\n",
      "See the caveats in the documentation: https://pandas.pydata.org/pandas-docs/stable/user_guide/indexing.html#returning-a-view-versus-a-copy\n",
      "  data_13[x] = np.log(data_13[x])\n",
      "C:\\Users\\Alex\\AppData\\Local\\Temp/ipykernel_5992/521765234.py:30: SettingWithCopyWarning: \n",
      "A value is trying to be set on a copy of a slice from a DataFrame.\n",
      "Try using .loc[row_indexer,col_indexer] = value instead\n",
      "\n",
      "See the caveats in the documentation: https://pandas.pydata.org/pandas-docs/stable/user_guide/indexing.html#returning-a-view-versus-a-copy\n",
      "  data_13['waterfront'] = clean_columns(\"waterfront\", data_13[\"waterfront\"])\n",
      "C:\\Users\\Alex\\AppData\\Local\\Temp/ipykernel_5992/521765234.py:31: SettingWithCopyWarning: \n",
      "A value is trying to be set on a copy of a slice from a DataFrame.\n",
      "Try using .loc[row_indexer,col_indexer] = value instead\n",
      "\n",
      "See the caveats in the documentation: https://pandas.pydata.org/pandas-docs/stable/user_guide/indexing.html#returning-a-view-versus-a-copy\n",
      "  data_13['years_old'] = clean_columns(\"yr_built\", data_13[\"yr_built\"])\n"
     ]
    }
   ],
   "source": [
    "#We must reimport to bring back location data we had previously delted\n",
    "data = pd.read_excel(\"./data_mid_bootcamp_project_regression/regression_data.xls\")\n",
    "del data['date']\n",
    "del data['id']\n",
    "data_13 = data\n",
    "\n",
    "graphs_to_check = ['sqft_living', 'sqft_above', 'sqft_basement']\n",
    "\n",
    "data_13 = data_13[(data_13['sqft_living'] > 0) & (data_13['sqft_above'] > 0) & (data_13['sqft_basement']> 0)]\n",
    "\n",
    "for x in graphs_to_check:\n",
    "    data_13[x] = np.log(data_13[x])\n",
    "\n",
    "data_lost = o_size - data_13.shape[0]\n",
    "print(\"Data lost: \" + str(data_lost) + \" or \" + str(round(data_lost/o_size * 100,2)) + \"%.\")\n",
    "\n",
    "def clean_columns(column, data_in):\n",
    "    out = []\n",
    "    if column == \"waterfront\":\n",
    "        for x in data_in:\n",
    "            if x == 0:\n",
    "                out.append(\"False\")\n",
    "            else:\n",
    "                out.append(\"True\")\n",
    "    elif column == \"yr_built\":\n",
    "        for x in data_in:\n",
    "            out.append(2015  - x)\n",
    "    return out\n",
    "\n",
    "data_13['waterfront'] = clean_columns(\"waterfront\", data_13[\"waterfront\"])\n",
    "data_13['years_old'] = clean_columns(\"yr_built\", data_13[\"yr_built\"])\n",
    "del data_13['yr_built']\n",
    "\n",
    "# Now we transform/scale and encode\n",
    "# I will be using standard scaling and one hot encoding\n",
    "# I will aslo be seperating our Y from our data\n",
    "\n",
    "Y = data_13['price']\n",
    "del data_13['price']\n",
    "\n",
    "from sklearn.preprocessing import StandardScaler\n",
    "from sklearn.preprocessing import OneHotEncoder\n",
    "\n",
    "X_cat = data_13[['view','condition','grade','waterfront','waterfront']]\n",
    "data_10 = data_13.drop(['view','condition','grade','waterfront'], axis = 1)\n",
    "X_num = data_13.select_dtypes(np.number)\n",
    "\n",
    "\n",
    "transformer = StandardScaler().fit(X_num)\n",
    "scaled_x = transformer.transform(X_num)\n",
    "\n",
    "encoder = OneHotEncoder().fit(X_cat)\n",
    "encoded = encoder.transform(X_cat).toarray()\n",
    "X = np.concatenate((scaled_x, encoded), axis=1)\n",
    "\n",
    "X_train, X_test, y_train, y_test = train_test_split(X, Y, test_size=0.3, random_state=100)\n",
    "lm = linear_model.LinearRegression()\n",
    "model = lm.fit(X_train,y_train)\n",
    "predictions  = lm.predict(X_test)\n",
    "print(\"R2 score is\", r2_score(y_test, predictions))\n",
    "\n",
    "X_train, X_test, y_train, y_test = train_test_split(X, Y, test_size=0.25, random_state=100)\n",
    "lm = linear_model.LinearRegression()\n",
    "model = lm.fit(X_train,y_train)\n",
    "predictions  = lm.predict(X_test)\n",
    "print(\"R2 score is\", r2_score(y_test, predictions))\n",
    "\n",
    "X_train, X_test, y_train, y_test = train_test_split(X, Y, test_size=0.2, random_state=100)\n",
    "lm = linear_model.LinearRegression()\n",
    "model = lm.fit(X_train,y_train)\n",
    "predictions  = lm.predict(X_test)\n",
    "print(\"R2 score is\", r2_score(y_test, predictions))"
   ]
  },
  {
   "cell_type": "markdown",
   "id": "cb4ad937",
   "metadata": {},
   "source": [
    "# ------------------------------------------------------------------\n",
    "# With bedrooms and such data as categoricals, not log transformed, with Feature Extraction and Location Features"
   ]
  },
  {
   "cell_type": "code",
   "execution_count": 83,
   "id": "fea4d882",
   "metadata": {},
   "outputs": [
    {
     "name": "stdout",
     "output_type": "stream",
     "text": [
      "Data lost: 925 or 4.28%.\n",
      "R2 score is 0.6839255552354149\n",
      "R2 score is 0.678449872917592\n",
      "R2 score is 0.679300667768763\n"
     ]
    },
    {
     "name": "stderr",
     "output_type": "stream",
     "text": [
      "C:\\Users\\Alex\\AppData\\Local\\Temp/ipykernel_5992/625785228.py:16: UserWarning: Boolean Series key will be reindexed to match DataFrame index.\n",
      "  data_14 = data_14[data['sqft_living']<upper_limit]\n"
     ]
    }
   ],
   "source": [
    "#We must reimport to bring back location data we had previously delted\n",
    "data = pd.read_excel(\"./data_mid_bootcamp_project_regression/regression_data.xls\")\n",
    "del data['date']\n",
    "del data['id']\n",
    "data_14 = data\n",
    "\n",
    "#I will first remove known outliers and then split my columns.\n",
    "iqr = np.percentile(data_14['sqft_basement'],75) - np.percentile(data_14['sqft_basement'],25)\n",
    "upper_limit = np.percentile(data_14['sqft_basement'],75) + 1.5*iqr\n",
    "lower_limit = np.percentile(data_14['sqft_basement'],25) - 1.5*iqr\n",
    "data_14 = data_14[data_14['sqft_basement']<upper_limit]\n",
    "\n",
    "iqr = np.percentile(data['sqft_living'],75) - np.percentile(data['sqft_living'],25)\n",
    "upper_limit = np.percentile(data['sqft_living'],75) + 1.5*iqr\n",
    "lower_limit = np.percentile(data['sqft_living'],25) - 1.5*iqr\n",
    "data_14 = data_14[data['sqft_living']<upper_limit]\n",
    "\n",
    "data_lost = o_size - data_14.shape[0]\n",
    "print(\"Data lost: \" + str(data_lost) + \" or \" + str(round(data_lost/o_size * 100,2)) + \"%.\")\n",
    "\n",
    "def clean_columns(column, data_in):\n",
    "    out = []\n",
    "    if column == \"waterfront\":\n",
    "        for x in data_in:\n",
    "            if x == 0:\n",
    "                out.append(\"False\")\n",
    "            else:\n",
    "                out.append(\"True\")\n",
    "    elif column == \"yr_built\":\n",
    "        for x in data_in:\n",
    "            out.append(2015  - x)\n",
    "    return out\n",
    "\n",
    "data_14['waterfront'] = clean_columns(\"waterfront\", data_14[\"waterfront\"])\n",
    "data_14['years_old'] = clean_columns(\"yr_built\", data_14[\"yr_built\"])\n",
    "del data_14['yr_built']\n",
    "\n",
    "# Now we transform/scale and encode\n",
    "# I will be using standard scaling and one hot encoding\n",
    "# I will aslo be seperating our Y from our data\n",
    "\n",
    "Y = data_14['price']\n",
    "del data_14['price']\n",
    "\n",
    "from sklearn.preprocessing import StandardScaler\n",
    "from sklearn.preprocessing import OneHotEncoder\n",
    "\n",
    "X_cat = data_14[['view','condition','grade','waterfront','waterfront']]\n",
    "data_14 = data_14.drop(['view','condition','grade','waterfront'], axis = 1)\n",
    "X_num = data_14.select_dtypes(np.number)\n",
    "\n",
    "\n",
    "transformer = StandardScaler().fit(X_num)\n",
    "scaled_x = transformer.transform(X_num)\n",
    "\n",
    "encoder = OneHotEncoder().fit(X_cat)\n",
    "encoded = encoder.transform(X_cat).toarray()\n",
    "X = np.concatenate((scaled_x, encoded), axis=1)\n",
    "\n",
    "X_train, X_test, y_train, y_test = train_test_split(X, Y, test_size=0.3, random_state=100)\n",
    "lm = linear_model.LinearRegression()\n",
    "model = lm.fit(X_train,y_train)\n",
    "predictions  = lm.predict(X_test)\n",
    "print(\"R2 score is\", r2_score(y_test, predictions))\n",
    "\n",
    "X_train, X_test, y_train, y_test = train_test_split(X, Y, test_size=0.25, random_state=100)\n",
    "lm = linear_model.LinearRegression()\n",
    "model = lm.fit(X_train,y_train)\n",
    "predictions  = lm.predict(X_test)\n",
    "print(\"R2 score is\", r2_score(y_test, predictions))\n",
    "\n",
    "X_train, X_test, y_train, y_test = train_test_split(X, Y, test_size=0.2, random_state=100)\n",
    "lm = linear_model.LinearRegression()\n",
    "model = lm.fit(X_train,y_train)\n",
    "predictions  = lm.predict(X_test)\n",
    "print(\"R2 score is\", r2_score(y_test, predictions))"
   ]
  },
  {
   "cell_type": "code",
   "execution_count": null,
   "id": "77c5aad1",
   "metadata": {},
   "outputs": [],
   "source": []
  },
  {
   "cell_type": "code",
   "execution_count": null,
   "id": "bb6f3506",
   "metadata": {},
   "outputs": [],
   "source": []
  },
  {
   "cell_type": "code",
   "execution_count": null,
   "id": "9fac2f20",
   "metadata": {},
   "outputs": [],
   "source": []
  },
  {
   "cell_type": "code",
   "execution_count": null,
   "id": "2b2589d8",
   "metadata": {},
   "outputs": [],
   "source": []
  },
  {
   "cell_type": "code",
   "execution_count": null,
   "id": "360112eb",
   "metadata": {},
   "outputs": [],
   "source": []
  },
  {
   "cell_type": "code",
   "execution_count": null,
   "id": "95f8f015",
   "metadata": {},
   "outputs": [],
   "source": []
  },
  {
   "cell_type": "code",
   "execution_count": null,
   "id": "d6936fb6",
   "metadata": {},
   "outputs": [],
   "source": []
  },
  {
   "cell_type": "code",
   "execution_count": null,
   "id": "63717425",
   "metadata": {},
   "outputs": [],
   "source": []
  },
  {
   "cell_type": "code",
   "execution_count": null,
   "id": "db6911d6",
   "metadata": {},
   "outputs": [],
   "source": []
  },
  {
   "cell_type": "code",
   "execution_count": null,
   "id": "b5a3ec56",
   "metadata": {},
   "outputs": [],
   "source": []
  },
  {
   "cell_type": "code",
   "execution_count": null,
   "id": "3da5c8a5",
   "metadata": {},
   "outputs": [],
   "source": []
  },
  {
   "cell_type": "code",
   "execution_count": null,
   "id": "b3bb0f20",
   "metadata": {},
   "outputs": [],
   "source": []
  },
  {
   "cell_type": "code",
   "execution_count": null,
   "id": "cf2af7df",
   "metadata": {},
   "outputs": [],
   "source": []
  },
  {
   "cell_type": "code",
   "execution_count": 84,
   "id": "4dfc5e01",
   "metadata": {},
   "outputs": [
    {
     "data": {
      "text/plain": [
       "[]"
      ]
     },
     "execution_count": 84,
     "metadata": {},
     "output_type": "execute_result"
    }
   ],
   "source": [
    "out = []\n",
    "for x in range(data_5.shape[0]):\n",
    "    if data_5.iloc(0)[x][\"sqft_above\"] - data_5.iloc(0)[x][\"sqft_living\"] > 0:\n",
    "        out.append(data_5.iloc(0)[x][\"sqft_above\"] - data_5.iloc(0)[x][\"sqft_living\"])\n",
    "out"
   ]
  },
  {
   "cell_type": "code",
   "execution_count": 88,
   "id": "d36e5544",
   "metadata": {},
   "outputs": [
    {
     "data": {
      "text/html": [
       "<div>\n",
       "<style scoped>\n",
       "    .dataframe tbody tr th:only-of-type {\n",
       "        vertical-align: middle;\n",
       "    }\n",
       "\n",
       "    .dataframe tbody tr th {\n",
       "        vertical-align: top;\n",
       "    }\n",
       "\n",
       "    .dataframe thead th {\n",
       "        text-align: right;\n",
       "    }\n",
       "</style>\n",
       "<table border=\"1\" class=\"dataframe\">\n",
       "  <thead>\n",
       "    <tr style=\"text-align: right;\">\n",
       "      <th></th>\n",
       "      <th>sqft_above</th>\n",
       "      <th>sqft_living</th>\n",
       "    </tr>\n",
       "  </thead>\n",
       "  <tbody>\n",
       "    <tr>\n",
       "      <th>0</th>\n",
       "      <td>1180</td>\n",
       "      <td>1180</td>\n",
       "    </tr>\n",
       "    <tr>\n",
       "      <th>1</th>\n",
       "      <td>2170</td>\n",
       "      <td>2570</td>\n",
       "    </tr>\n",
       "    <tr>\n",
       "      <th>2</th>\n",
       "      <td>770</td>\n",
       "      <td>770</td>\n",
       "    </tr>\n",
       "    <tr>\n",
       "      <th>3</th>\n",
       "      <td>1050</td>\n",
       "      <td>1960</td>\n",
       "    </tr>\n",
       "    <tr>\n",
       "      <th>4</th>\n",
       "      <td>1680</td>\n",
       "      <td>1680</td>\n",
       "    </tr>\n",
       "  </tbody>\n",
       "</table>\n",
       "</div>"
      ],
      "text/plain": [
       "   sqft_above  sqft_living\n",
       "0        1180         1180\n",
       "1        2170         2570\n",
       "2         770          770\n",
       "3        1050         1960\n",
       "4        1680         1680"
      ]
     },
     "execution_count": 88,
     "metadata": {},
     "output_type": "execute_result"
    }
   ],
   "source": [
    "data[['sqft_above','sqft_living']].head()"
   ]
  },
  {
   "cell_type": "code",
   "execution_count": null,
   "id": "569381b0",
   "metadata": {},
   "outputs": [],
   "source": [
    "d"
   ]
  }
 ],
 "metadata": {
  "kernelspec": {
   "display_name": "Python 3 (ipykernel)",
   "language": "python",
   "name": "python3"
  },
  "language_info": {
   "codemirror_mode": {
    "name": "ipython",
    "version": 3
   },
   "file_extension": ".py",
   "mimetype": "text/x-python",
   "name": "python",
   "nbconvert_exporter": "python",
   "pygments_lexer": "ipython3",
   "version": "3.9.7"
  }
 },
 "nbformat": 4,
 "nbformat_minor": 5
}
